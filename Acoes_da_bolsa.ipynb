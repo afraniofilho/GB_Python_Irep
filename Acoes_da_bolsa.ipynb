{
  "nbformat": 4,
  "nbformat_minor": 0,
  "metadata": {
    "colab": {
      "provenance": [],
      "authorship_tag": "ABX9TyMa4wR06TC/yOJjmiNkLdz6",
      "include_colab_link": true
    },
    "kernelspec": {
      "name": "python3",
      "display_name": "Python 3"
    },
    "language_info": {
      "name": "python"
    }
  },
  "cells": [
    {
      "cell_type": "markdown",
      "metadata": {
        "id": "view-in-github",
        "colab_type": "text"
      },
      "source": [
        "<a href=\"https://colab.research.google.com/github/afraniofilho/GB_Python_Irep/blob/main/Acoes_da_bolsa.ipynb\" target=\"_parent\"><img src=\"https://colab.research.google.com/assets/colab-badge.svg\" alt=\"Open In Colab\"/></a>"
      ]
    },
    {
      "cell_type": "code",
      "execution_count": 1,
      "metadata": {
        "colab": {
          "base_uri": "https://localhost:8080/",
          "height": 305
        },
        "id": "okmia-wQQ3BA",
        "outputId": "22ea66c2-6436-4245-ae7c-c514bbb061f0"
      },
      "outputs": [
        {
          "output_type": "error",
          "ename": "ModuleNotFoundError",
          "evalue": "ignored",
          "traceback": [
            "\u001b[0;31m---------------------------------------------------------------------------\u001b[0m",
            "\u001b[0;31mModuleNotFoundError\u001b[0m                       Traceback (most recent call last)",
            "\u001b[0;32m<ipython-input-1-7b70635dcb62>\u001b[0m in \u001b[0;36m<module>\u001b[0;34m\u001b[0m\n\u001b[0;32m----> 1\u001b[0;31m \u001b[0;32mimport\u001b[0m \u001b[0myfinance\u001b[0m \u001b[0;32mas\u001b[0m \u001b[0myf\u001b[0m\u001b[0;34m\u001b[0m\u001b[0;34m\u001b[0m\u001b[0m\n\u001b[0m",
            "\u001b[0;31mModuleNotFoundError\u001b[0m: No module named 'yfinance'",
            "",
            "\u001b[0;31m---------------------------------------------------------------------------\u001b[0;32m\nNOTE: If your import is failing due to a missing package, you can\nmanually install dependencies using either !pip or !apt.\n\nTo view examples of installing some common dependencies, click the\n\"Open Examples\" button below.\n\u001b[0;31m---------------------------------------------------------------------------\u001b[0m\n"
          ],
          "errorDetails": {
            "actions": [
              {
                "action": "open_url",
                "actionText": "Open Examples",
                "url": "/notebooks/snippets/importing_libraries.ipynb"
              }
            ]
          }
        }
      ],
      "source": [
        "import yfinance as yf"
      ]
    },
    {
      "cell_type": "code",
      "source": [
        "!pip install yfinance"
      ],
      "metadata": {
        "colab": {
          "base_uri": "https://localhost:8080/"
        },
        "id": "6l0Cf_ySRyOJ",
        "outputId": "2f5843e2-e9e5-4c05-9fe9-1887f9f41846"
      },
      "execution_count": 2,
      "outputs": [
        {
          "output_type": "stream",
          "name": "stdout",
          "text": [
            "Looking in indexes: https://pypi.org/simple, https://us-python.pkg.dev/colab-wheels/public/simple/\n",
            "Collecting yfinance\n",
            "  Downloading yfinance-0.1.74-py2.py3-none-any.whl (27 kB)\n",
            "Requirement already satisfied: pandas>=0.24.0 in /usr/local/lib/python3.7/dist-packages (from yfinance) (1.3.5)\n",
            "Requirement already satisfied: lxml>=4.5.1 in /usr/local/lib/python3.7/dist-packages (from yfinance) (4.9.1)\n",
            "Requirement already satisfied: multitasking>=0.0.7 in /usr/local/lib/python3.7/dist-packages (from yfinance) (0.0.11)\n",
            "Requirement already satisfied: numpy>=1.15 in /usr/local/lib/python3.7/dist-packages (from yfinance) (1.21.6)\n",
            "Collecting requests>=2.26\n",
            "  Downloading requests-2.28.1-py3-none-any.whl (62 kB)\n",
            "\u001b[K     |████████████████████████████████| 62 kB 978 kB/s \n",
            "\u001b[?25hRequirement already satisfied: pytz>=2017.3 in /usr/local/lib/python3.7/dist-packages (from pandas>=0.24.0->yfinance) (2022.2.1)\n",
            "Requirement already satisfied: python-dateutil>=2.7.3 in /usr/local/lib/python3.7/dist-packages (from pandas>=0.24.0->yfinance) (2.8.2)\n",
            "Requirement already satisfied: six>=1.5 in /usr/local/lib/python3.7/dist-packages (from python-dateutil>=2.7.3->pandas>=0.24.0->yfinance) (1.15.0)\n",
            "Requirement already satisfied: urllib3<1.27,>=1.21.1 in /usr/local/lib/python3.7/dist-packages (from requests>=2.26->yfinance) (1.24.3)\n",
            "Requirement already satisfied: charset-normalizer<3,>=2 in /usr/local/lib/python3.7/dist-packages (from requests>=2.26->yfinance) (2.1.1)\n",
            "Requirement already satisfied: certifi>=2017.4.17 in /usr/local/lib/python3.7/dist-packages (from requests>=2.26->yfinance) (2022.6.15)\n",
            "Requirement already satisfied: idna<4,>=2.5 in /usr/local/lib/python3.7/dist-packages (from requests>=2.26->yfinance) (2.10)\n",
            "Installing collected packages: requests, yfinance\n",
            "  Attempting uninstall: requests\n",
            "    Found existing installation: requests 2.23.0\n",
            "    Uninstalling requests-2.23.0:\n",
            "      Successfully uninstalled requests-2.23.0\n",
            "Successfully installed requests-2.28.1 yfinance-0.1.74\n"
          ]
        }
      ]
    },
    {
      "cell_type": "code",
      "source": [
        "import yfinance as yf"
      ],
      "metadata": {
        "id": "E9pP7bl4SOVi"
      },
      "execution_count": 3,
      "outputs": []
    },
    {
      "cell_type": "code",
      "source": [
        "import seaborn as sns"
      ],
      "metadata": {
        "id": "pX09QS5XSoZm"
      },
      "execution_count": 4,
      "outputs": []
    },
    {
      "cell_type": "code",
      "source": [
        "tickers = '^BVSP USDBRL=X'"
      ],
      "metadata": {
        "id": "I9V5pY27TFt-"
      },
      "execution_count": 5,
      "outputs": []
    },
    {
      "cell_type": "code",
      "source": [
        "carteira = yf.download(tickers, start='2007-01-01')"
      ],
      "metadata": {
        "colab": {
          "base_uri": "https://localhost:8080/"
        },
        "id": "SSlIfxEHUelj",
        "outputId": "421cde2d-9058-4010-9fa3-0466c5505635"
      },
      "execution_count": 6,
      "outputs": [
        {
          "output_type": "stream",
          "name": "stdout",
          "text": [
            "[*********************100%***********************]  2 of 2 completed\n"
          ]
        }
      ]
    },
    {
      "cell_type": "code",
      "source": [
        "carteira.head()"
      ],
      "metadata": {
        "colab": {
          "base_uri": "https://localhost:8080/",
          "height": 269
        },
        "id": "ZX53kaYCUxUm",
        "outputId": "5b21027d-a96a-4ca1-c855-ce32dae3cd0c"
      },
      "execution_count": 7,
      "outputs": [
        {
          "output_type": "execute_result",
          "data": {
            "text/plain": [
              "           Adj Close             Close              High               Low  \\\n",
              "            USDBRL=X    ^BVSP USDBRL=X    ^BVSP USDBRL=X    ^BVSP USDBRL=X   \n",
              "Date                                                                         \n",
              "2007-01-01    2.1325      NaN   2.1325      NaN   2.1325      NaN   2.1310   \n",
              "2007-01-02    2.1310  45383.0   2.1310  45383.0   2.1432  45388.0   2.1295   \n",
              "2007-01-03    2.1345  44445.0   2.1345  44445.0   2.1351  45379.0   2.1278   \n",
              "2007-01-04    2.1390  44020.0   2.1390  44020.0   2.1430  44442.0   2.1345   \n",
              "2007-01-05    2.1470  42245.0   2.1470  42245.0   2.1525  44081.0   2.1345   \n",
              "\n",
              "                        Open            Volume               \n",
              "              ^BVSP USDBRL=X    ^BVSP USDBRL=X        ^BVSP  \n",
              "Date                                                         \n",
              "2007-01-01      NaN   2.1310      NaN      0.0          NaN  \n",
              "2007-01-02  44476.0   2.1335  44476.0      0.0   75560200.0  \n",
              "2007-01-03  44284.0   2.1310  45379.0      0.0  122372800.0  \n",
              "2007-01-04  43623.0   2.1345  44442.0      0.0   86577000.0  \n",
              "2007-01-05  42160.0   2.1390  44019.0      0.0  164055000.0  "
            ],
            "text/html": [
              "\n",
              "  <div id=\"df-3de4c261-ea42-47f7-bf17-41f2e207a057\">\n",
              "    <div class=\"colab-df-container\">\n",
              "      <div>\n",
              "<style scoped>\n",
              "    .dataframe tbody tr th:only-of-type {\n",
              "        vertical-align: middle;\n",
              "    }\n",
              "\n",
              "    .dataframe tbody tr th {\n",
              "        vertical-align: top;\n",
              "    }\n",
              "\n",
              "    .dataframe thead tr th {\n",
              "        text-align: left;\n",
              "    }\n",
              "\n",
              "    .dataframe thead tr:last-of-type th {\n",
              "        text-align: right;\n",
              "    }\n",
              "</style>\n",
              "<table border=\"1\" class=\"dataframe\">\n",
              "  <thead>\n",
              "    <tr>\n",
              "      <th></th>\n",
              "      <th colspan=\"2\" halign=\"left\">Adj Close</th>\n",
              "      <th colspan=\"2\" halign=\"left\">Close</th>\n",
              "      <th colspan=\"2\" halign=\"left\">High</th>\n",
              "      <th colspan=\"2\" halign=\"left\">Low</th>\n",
              "      <th colspan=\"2\" halign=\"left\">Open</th>\n",
              "      <th colspan=\"2\" halign=\"left\">Volume</th>\n",
              "    </tr>\n",
              "    <tr>\n",
              "      <th></th>\n",
              "      <th>USDBRL=X</th>\n",
              "      <th>^BVSP</th>\n",
              "      <th>USDBRL=X</th>\n",
              "      <th>^BVSP</th>\n",
              "      <th>USDBRL=X</th>\n",
              "      <th>^BVSP</th>\n",
              "      <th>USDBRL=X</th>\n",
              "      <th>^BVSP</th>\n",
              "      <th>USDBRL=X</th>\n",
              "      <th>^BVSP</th>\n",
              "      <th>USDBRL=X</th>\n",
              "      <th>^BVSP</th>\n",
              "    </tr>\n",
              "    <tr>\n",
              "      <th>Date</th>\n",
              "      <th></th>\n",
              "      <th></th>\n",
              "      <th></th>\n",
              "      <th></th>\n",
              "      <th></th>\n",
              "      <th></th>\n",
              "      <th></th>\n",
              "      <th></th>\n",
              "      <th></th>\n",
              "      <th></th>\n",
              "      <th></th>\n",
              "      <th></th>\n",
              "    </tr>\n",
              "  </thead>\n",
              "  <tbody>\n",
              "    <tr>\n",
              "      <th>2007-01-01</th>\n",
              "      <td>2.1325</td>\n",
              "      <td>NaN</td>\n",
              "      <td>2.1325</td>\n",
              "      <td>NaN</td>\n",
              "      <td>2.1325</td>\n",
              "      <td>NaN</td>\n",
              "      <td>2.1310</td>\n",
              "      <td>NaN</td>\n",
              "      <td>2.1310</td>\n",
              "      <td>NaN</td>\n",
              "      <td>0.0</td>\n",
              "      <td>NaN</td>\n",
              "    </tr>\n",
              "    <tr>\n",
              "      <th>2007-01-02</th>\n",
              "      <td>2.1310</td>\n",
              "      <td>45383.0</td>\n",
              "      <td>2.1310</td>\n",
              "      <td>45383.0</td>\n",
              "      <td>2.1432</td>\n",
              "      <td>45388.0</td>\n",
              "      <td>2.1295</td>\n",
              "      <td>44476.0</td>\n",
              "      <td>2.1335</td>\n",
              "      <td>44476.0</td>\n",
              "      <td>0.0</td>\n",
              "      <td>75560200.0</td>\n",
              "    </tr>\n",
              "    <tr>\n",
              "      <th>2007-01-03</th>\n",
              "      <td>2.1345</td>\n",
              "      <td>44445.0</td>\n",
              "      <td>2.1345</td>\n",
              "      <td>44445.0</td>\n",
              "      <td>2.1351</td>\n",
              "      <td>45379.0</td>\n",
              "      <td>2.1278</td>\n",
              "      <td>44284.0</td>\n",
              "      <td>2.1310</td>\n",
              "      <td>45379.0</td>\n",
              "      <td>0.0</td>\n",
              "      <td>122372800.0</td>\n",
              "    </tr>\n",
              "    <tr>\n",
              "      <th>2007-01-04</th>\n",
              "      <td>2.1390</td>\n",
              "      <td>44020.0</td>\n",
              "      <td>2.1390</td>\n",
              "      <td>44020.0</td>\n",
              "      <td>2.1430</td>\n",
              "      <td>44442.0</td>\n",
              "      <td>2.1345</td>\n",
              "      <td>43623.0</td>\n",
              "      <td>2.1345</td>\n",
              "      <td>44442.0</td>\n",
              "      <td>0.0</td>\n",
              "      <td>86577000.0</td>\n",
              "    </tr>\n",
              "    <tr>\n",
              "      <th>2007-01-05</th>\n",
              "      <td>2.1470</td>\n",
              "      <td>42245.0</td>\n",
              "      <td>2.1470</td>\n",
              "      <td>42245.0</td>\n",
              "      <td>2.1525</td>\n",
              "      <td>44081.0</td>\n",
              "      <td>2.1345</td>\n",
              "      <td>42160.0</td>\n",
              "      <td>2.1390</td>\n",
              "      <td>44019.0</td>\n",
              "      <td>0.0</td>\n",
              "      <td>164055000.0</td>\n",
              "    </tr>\n",
              "  </tbody>\n",
              "</table>\n",
              "</div>\n",
              "      <button class=\"colab-df-convert\" onclick=\"convertToInteractive('df-3de4c261-ea42-47f7-bf17-41f2e207a057')\"\n",
              "              title=\"Convert this dataframe to an interactive table.\"\n",
              "              style=\"display:none;\">\n",
              "        \n",
              "  <svg xmlns=\"http://www.w3.org/2000/svg\" height=\"24px\"viewBox=\"0 0 24 24\"\n",
              "       width=\"24px\">\n",
              "    <path d=\"M0 0h24v24H0V0z\" fill=\"none\"/>\n",
              "    <path d=\"M18.56 5.44l.94 2.06.94-2.06 2.06-.94-2.06-.94-.94-2.06-.94 2.06-2.06.94zm-11 1L8.5 8.5l.94-2.06 2.06-.94-2.06-.94L8.5 2.5l-.94 2.06-2.06.94zm10 10l.94 2.06.94-2.06 2.06-.94-2.06-.94-.94-2.06-.94 2.06-2.06.94z\"/><path d=\"M17.41 7.96l-1.37-1.37c-.4-.4-.92-.59-1.43-.59-.52 0-1.04.2-1.43.59L10.3 9.45l-7.72 7.72c-.78.78-.78 2.05 0 2.83L4 21.41c.39.39.9.59 1.41.59.51 0 1.02-.2 1.41-.59l7.78-7.78 2.81-2.81c.8-.78.8-2.07 0-2.86zM5.41 20L4 18.59l7.72-7.72 1.47 1.35L5.41 20z\"/>\n",
              "  </svg>\n",
              "      </button>\n",
              "      \n",
              "  <style>\n",
              "    .colab-df-container {\n",
              "      display:flex;\n",
              "      flex-wrap:wrap;\n",
              "      gap: 12px;\n",
              "    }\n",
              "\n",
              "    .colab-df-convert {\n",
              "      background-color: #E8F0FE;\n",
              "      border: none;\n",
              "      border-radius: 50%;\n",
              "      cursor: pointer;\n",
              "      display: none;\n",
              "      fill: #1967D2;\n",
              "      height: 32px;\n",
              "      padding: 0 0 0 0;\n",
              "      width: 32px;\n",
              "    }\n",
              "\n",
              "    .colab-df-convert:hover {\n",
              "      background-color: #E2EBFA;\n",
              "      box-shadow: 0px 1px 2px rgba(60, 64, 67, 0.3), 0px 1px 3px 1px rgba(60, 64, 67, 0.15);\n",
              "      fill: #174EA6;\n",
              "    }\n",
              "\n",
              "    [theme=dark] .colab-df-convert {\n",
              "      background-color: #3B4455;\n",
              "      fill: #D2E3FC;\n",
              "    }\n",
              "\n",
              "    [theme=dark] .colab-df-convert:hover {\n",
              "      background-color: #434B5C;\n",
              "      box-shadow: 0px 1px 3px 1px rgba(0, 0, 0, 0.15);\n",
              "      filter: drop-shadow(0px 1px 2px rgba(0, 0, 0, 0.3));\n",
              "      fill: #FFFFFF;\n",
              "    }\n",
              "  </style>\n",
              "\n",
              "      <script>\n",
              "        const buttonEl =\n",
              "          document.querySelector('#df-3de4c261-ea42-47f7-bf17-41f2e207a057 button.colab-df-convert');\n",
              "        buttonEl.style.display =\n",
              "          google.colab.kernel.accessAllowed ? 'block' : 'none';\n",
              "\n",
              "        async function convertToInteractive(key) {\n",
              "          const element = document.querySelector('#df-3de4c261-ea42-47f7-bf17-41f2e207a057');\n",
              "          const dataTable =\n",
              "            await google.colab.kernel.invokeFunction('convertToInteractive',\n",
              "                                                     [key], {});\n",
              "          if (!dataTable) return;\n",
              "\n",
              "          const docLinkHtml = 'Like what you see? Visit the ' +\n",
              "            '<a target=\"_blank\" href=https://colab.research.google.com/notebooks/data_table.ipynb>data table notebook</a>'\n",
              "            + ' to learn more about interactive tables.';\n",
              "          element.innerHTML = '';\n",
              "          dataTable['output_type'] = 'display_data';\n",
              "          await google.colab.output.renderOutput(dataTable, element);\n",
              "          const docLink = document.createElement('div');\n",
              "          docLink.innerHTML = docLinkHtml;\n",
              "          element.appendChild(docLink);\n",
              "        }\n",
              "      </script>\n",
              "    </div>\n",
              "  </div>\n",
              "  "
            ]
          },
          "metadata": {},
          "execution_count": 7
        }
      ]
    },
    {
      "cell_type": "code",
      "source": [
        "carteira.shape"
      ],
      "metadata": {
        "colab": {
          "base_uri": "https://localhost:8080/"
        },
        "id": "SwsrQi0sU4Er",
        "outputId": "72d9a605-23e1-4c6e-e21f-edf7c8c03484"
      },
      "execution_count": 8,
      "outputs": [
        {
          "output_type": "execute_result",
          "data": {
            "text/plain": [
              "(4109, 12)"
            ]
          },
          "metadata": {},
          "execution_count": 8
        }
      ]
    },
    {
      "cell_type": "code",
      "source": [
        "carteira.tail()"
      ],
      "metadata": {
        "colab": {
          "base_uri": "https://localhost:8080/",
          "height": 269
        },
        "id": "Xx8RcDmsVBPF",
        "outputId": "bd695b8c-3c5a-4a55-e655-d579c33c2c7a"
      },
      "execution_count": 9,
      "outputs": [
        {
          "output_type": "execute_result",
          "data": {
            "text/plain": [
              "           Adj Close                   Close                     High  \\\n",
              "            USDBRL=X          ^BVSP USDBRL=X          ^BVSP  USDBRL=X   \n",
              "Date                                                                    \n",
              "2022-09-28    5.3781  108451.000000   5.3781  108451.000000  5.414328   \n",
              "2022-09-29    5.3742  107664.000000   5.3742  107664.000000  5.428300   \n",
              "2022-09-30    5.3962  110037.000000   5.3962  110037.000000  5.422000   \n",
              "2022-10-03       NaN  116134.460938      NaN  116134.460938       NaN   \n",
              "2022-10-04    5.1646            NaN   5.1646            NaN  5.165500   \n",
              "\n",
              "                                Low                  Open               \\\n",
              "                    ^BVSP  USDBRL=X        ^BVSP USDBRL=X        ^BVSP   \n",
              "Date                                                                     \n",
              "2022-09-28  108970.000000  5.338300  107914.0000   5.3781  108377.0000   \n",
              "2022-09-29  108449.000000  5.371357  106244.0000   5.3742  108449.0000   \n",
              "2022-09-30  110502.000000  5.375000  107315.0000   5.3962  107664.0000   \n",
              "2022-10-03  116134.460938       NaN  110047.5625      NaN  110047.5625   \n",
              "2022-10-04            NaN  5.164500          NaN   5.1646          NaN   \n",
              "\n",
              "             Volume              \n",
              "           USDBRL=X       ^BVSP  \n",
              "Date                             \n",
              "2022-09-28      0.0  13540500.0  \n",
              "2022-09-29      0.0  14588500.0  \n",
              "2022-09-30      0.0         0.0  \n",
              "2022-10-03      NaN         0.0  \n",
              "2022-10-04      0.0         NaN  "
            ],
            "text/html": [
              "\n",
              "  <div id=\"df-2a04686b-ea28-4343-aada-bcdf6d62b694\">\n",
              "    <div class=\"colab-df-container\">\n",
              "      <div>\n",
              "<style scoped>\n",
              "    .dataframe tbody tr th:only-of-type {\n",
              "        vertical-align: middle;\n",
              "    }\n",
              "\n",
              "    .dataframe tbody tr th {\n",
              "        vertical-align: top;\n",
              "    }\n",
              "\n",
              "    .dataframe thead tr th {\n",
              "        text-align: left;\n",
              "    }\n",
              "\n",
              "    .dataframe thead tr:last-of-type th {\n",
              "        text-align: right;\n",
              "    }\n",
              "</style>\n",
              "<table border=\"1\" class=\"dataframe\">\n",
              "  <thead>\n",
              "    <tr>\n",
              "      <th></th>\n",
              "      <th colspan=\"2\" halign=\"left\">Adj Close</th>\n",
              "      <th colspan=\"2\" halign=\"left\">Close</th>\n",
              "      <th colspan=\"2\" halign=\"left\">High</th>\n",
              "      <th colspan=\"2\" halign=\"left\">Low</th>\n",
              "      <th colspan=\"2\" halign=\"left\">Open</th>\n",
              "      <th colspan=\"2\" halign=\"left\">Volume</th>\n",
              "    </tr>\n",
              "    <tr>\n",
              "      <th></th>\n",
              "      <th>USDBRL=X</th>\n",
              "      <th>^BVSP</th>\n",
              "      <th>USDBRL=X</th>\n",
              "      <th>^BVSP</th>\n",
              "      <th>USDBRL=X</th>\n",
              "      <th>^BVSP</th>\n",
              "      <th>USDBRL=X</th>\n",
              "      <th>^BVSP</th>\n",
              "      <th>USDBRL=X</th>\n",
              "      <th>^BVSP</th>\n",
              "      <th>USDBRL=X</th>\n",
              "      <th>^BVSP</th>\n",
              "    </tr>\n",
              "    <tr>\n",
              "      <th>Date</th>\n",
              "      <th></th>\n",
              "      <th></th>\n",
              "      <th></th>\n",
              "      <th></th>\n",
              "      <th></th>\n",
              "      <th></th>\n",
              "      <th></th>\n",
              "      <th></th>\n",
              "      <th></th>\n",
              "      <th></th>\n",
              "      <th></th>\n",
              "      <th></th>\n",
              "    </tr>\n",
              "  </thead>\n",
              "  <tbody>\n",
              "    <tr>\n",
              "      <th>2022-09-28</th>\n",
              "      <td>5.3781</td>\n",
              "      <td>108451.000000</td>\n",
              "      <td>5.3781</td>\n",
              "      <td>108451.000000</td>\n",
              "      <td>5.414328</td>\n",
              "      <td>108970.000000</td>\n",
              "      <td>5.338300</td>\n",
              "      <td>107914.0000</td>\n",
              "      <td>5.3781</td>\n",
              "      <td>108377.0000</td>\n",
              "      <td>0.0</td>\n",
              "      <td>13540500.0</td>\n",
              "    </tr>\n",
              "    <tr>\n",
              "      <th>2022-09-29</th>\n",
              "      <td>5.3742</td>\n",
              "      <td>107664.000000</td>\n",
              "      <td>5.3742</td>\n",
              "      <td>107664.000000</td>\n",
              "      <td>5.428300</td>\n",
              "      <td>108449.000000</td>\n",
              "      <td>5.371357</td>\n",
              "      <td>106244.0000</td>\n",
              "      <td>5.3742</td>\n",
              "      <td>108449.0000</td>\n",
              "      <td>0.0</td>\n",
              "      <td>14588500.0</td>\n",
              "    </tr>\n",
              "    <tr>\n",
              "      <th>2022-09-30</th>\n",
              "      <td>5.3962</td>\n",
              "      <td>110037.000000</td>\n",
              "      <td>5.3962</td>\n",
              "      <td>110037.000000</td>\n",
              "      <td>5.422000</td>\n",
              "      <td>110502.000000</td>\n",
              "      <td>5.375000</td>\n",
              "      <td>107315.0000</td>\n",
              "      <td>5.3962</td>\n",
              "      <td>107664.0000</td>\n",
              "      <td>0.0</td>\n",
              "      <td>0.0</td>\n",
              "    </tr>\n",
              "    <tr>\n",
              "      <th>2022-10-03</th>\n",
              "      <td>NaN</td>\n",
              "      <td>116134.460938</td>\n",
              "      <td>NaN</td>\n",
              "      <td>116134.460938</td>\n",
              "      <td>NaN</td>\n",
              "      <td>116134.460938</td>\n",
              "      <td>NaN</td>\n",
              "      <td>110047.5625</td>\n",
              "      <td>NaN</td>\n",
              "      <td>110047.5625</td>\n",
              "      <td>NaN</td>\n",
              "      <td>0.0</td>\n",
              "    </tr>\n",
              "    <tr>\n",
              "      <th>2022-10-04</th>\n",
              "      <td>5.1646</td>\n",
              "      <td>NaN</td>\n",
              "      <td>5.1646</td>\n",
              "      <td>NaN</td>\n",
              "      <td>5.165500</td>\n",
              "      <td>NaN</td>\n",
              "      <td>5.164500</td>\n",
              "      <td>NaN</td>\n",
              "      <td>5.1646</td>\n",
              "      <td>NaN</td>\n",
              "      <td>0.0</td>\n",
              "      <td>NaN</td>\n",
              "    </tr>\n",
              "  </tbody>\n",
              "</table>\n",
              "</div>\n",
              "      <button class=\"colab-df-convert\" onclick=\"convertToInteractive('df-2a04686b-ea28-4343-aada-bcdf6d62b694')\"\n",
              "              title=\"Convert this dataframe to an interactive table.\"\n",
              "              style=\"display:none;\">\n",
              "        \n",
              "  <svg xmlns=\"http://www.w3.org/2000/svg\" height=\"24px\"viewBox=\"0 0 24 24\"\n",
              "       width=\"24px\">\n",
              "    <path d=\"M0 0h24v24H0V0z\" fill=\"none\"/>\n",
              "    <path d=\"M18.56 5.44l.94 2.06.94-2.06 2.06-.94-2.06-.94-.94-2.06-.94 2.06-2.06.94zm-11 1L8.5 8.5l.94-2.06 2.06-.94-2.06-.94L8.5 2.5l-.94 2.06-2.06.94zm10 10l.94 2.06.94-2.06 2.06-.94-2.06-.94-.94-2.06-.94 2.06-2.06.94z\"/><path d=\"M17.41 7.96l-1.37-1.37c-.4-.4-.92-.59-1.43-.59-.52 0-1.04.2-1.43.59L10.3 9.45l-7.72 7.72c-.78.78-.78 2.05 0 2.83L4 21.41c.39.39.9.59 1.41.59.51 0 1.02-.2 1.41-.59l7.78-7.78 2.81-2.81c.8-.78.8-2.07 0-2.86zM5.41 20L4 18.59l7.72-7.72 1.47 1.35L5.41 20z\"/>\n",
              "  </svg>\n",
              "      </button>\n",
              "      \n",
              "  <style>\n",
              "    .colab-df-container {\n",
              "      display:flex;\n",
              "      flex-wrap:wrap;\n",
              "      gap: 12px;\n",
              "    }\n",
              "\n",
              "    .colab-df-convert {\n",
              "      background-color: #E8F0FE;\n",
              "      border: none;\n",
              "      border-radius: 50%;\n",
              "      cursor: pointer;\n",
              "      display: none;\n",
              "      fill: #1967D2;\n",
              "      height: 32px;\n",
              "      padding: 0 0 0 0;\n",
              "      width: 32px;\n",
              "    }\n",
              "\n",
              "    .colab-df-convert:hover {\n",
              "      background-color: #E2EBFA;\n",
              "      box-shadow: 0px 1px 2px rgba(60, 64, 67, 0.3), 0px 1px 3px 1px rgba(60, 64, 67, 0.15);\n",
              "      fill: #174EA6;\n",
              "    }\n",
              "\n",
              "    [theme=dark] .colab-df-convert {\n",
              "      background-color: #3B4455;\n",
              "      fill: #D2E3FC;\n",
              "    }\n",
              "\n",
              "    [theme=dark] .colab-df-convert:hover {\n",
              "      background-color: #434B5C;\n",
              "      box-shadow: 0px 1px 3px 1px rgba(0, 0, 0, 0.15);\n",
              "      filter: drop-shadow(0px 1px 2px rgba(0, 0, 0, 0.3));\n",
              "      fill: #FFFFFF;\n",
              "    }\n",
              "  </style>\n",
              "\n",
              "      <script>\n",
              "        const buttonEl =\n",
              "          document.querySelector('#df-2a04686b-ea28-4343-aada-bcdf6d62b694 button.colab-df-convert');\n",
              "        buttonEl.style.display =\n",
              "          google.colab.kernel.accessAllowed ? 'block' : 'none';\n",
              "\n",
              "        async function convertToInteractive(key) {\n",
              "          const element = document.querySelector('#df-2a04686b-ea28-4343-aada-bcdf6d62b694');\n",
              "          const dataTable =\n",
              "            await google.colab.kernel.invokeFunction('convertToInteractive',\n",
              "                                                     [key], {});\n",
              "          if (!dataTable) return;\n",
              "\n",
              "          const docLinkHtml = 'Like what you see? Visit the ' +\n",
              "            '<a target=\"_blank\" href=https://colab.research.google.com/notebooks/data_table.ipynb>data table notebook</a>'\n",
              "            + ' to learn more about interactive tables.';\n",
              "          element.innerHTML = '';\n",
              "          dataTable['output_type'] = 'display_data';\n",
              "          await google.colab.output.renderOutput(dataTable, element);\n",
              "          const docLink = document.createElement('div');\n",
              "          docLink.innerHTML = docLinkHtml;\n",
              "          element.appendChild(docLink);\n",
              "        }\n",
              "      </script>\n",
              "    </div>\n",
              "  </div>\n",
              "  "
            ]
          },
          "metadata": {},
          "execution_count": 9
        }
      ]
    },
    {
      "cell_type": "code",
      "source": [
        "sns.set()\n",
        "carteira['Close'].plot(subplots=True, figsize=(22,8))"
      ],
      "metadata": {
        "colab": {
          "base_uri": "https://localhost:8080/",
          "height": 524
        },
        "id": "_yQRcJFlVGSh",
        "outputId": "dd0ef7da-4ea2-4a84-e8f8-2b5166591634"
      },
      "execution_count": 11,
      "outputs": [
        {
          "output_type": "execute_result",
          "data": {
            "text/plain": [
              "array([<matplotlib.axes._subplots.AxesSubplot object at 0x7f983b5c7a90>,\n",
              "       <matplotlib.axes._subplots.AxesSubplot object at 0x7f983e165350>],\n",
              "      dtype=object)"
            ]
          },
          "metadata": {},
          "execution_count": 11
        },
        {
          "output_type": "display_data",
          "data": {
            "text/plain": [
              "<Figure size 1584x576 with 2 Axes>"
            ],
            "image/png": "[encoded data removed]"
          },
          "metadata": {}
        }
      ]
    },
    {
      "cell_type": "code",
      "source": [],
      "metadata": {
        "id": "pynhzkjvVfXY"
      },
      "execution_count": null,
      "outputs": []
    }
  ]
}