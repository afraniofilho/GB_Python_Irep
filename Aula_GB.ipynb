{
  "nbformat": 4,
  "nbformat_minor": 0,
  "metadata": {
    "colab": {
      "name": "Aula GB.ipynb",
      "provenance": []
    },
    "kernelspec": {
      "name": "python3",
      "display_name": "Python 3"
    }
  },
  "cells": [
    {
      "cell_type": "code",
      "metadata": {
        "id": "_4sdHZsYfu7o"
      },
      "source": [
        "import pandas as pd"
      ],
      "execution_count": 1,
      "outputs": []
    },
    {
      "cell_type": "code",
      "metadata": {
        "id": "73s780bGhDaO"
      },
      "source": [
        "df = pd.read_csv('EB.csv')"
      ],
      "execution_count": 2,
      "outputs": []
    },
    {
      "cell_type": "code",
      "metadata": {
        "id": "2g6A3vsJhyTy",
        "colab": {
          "base_uri": "https://localhost:8080/",
          "height": 198
        },
        "outputId": "abd9cb76-e970-4c6d-e4f9-c31d3d1c5026"
      },
      "source": [
        "df.head()"
      ],
      "execution_count": 4,
      "outputs": [
        {
          "output_type": "execute_result",
          "data": {
            "text/html": [
              "<div>\n",
              "<style scoped>\n",
              "    .dataframe tbody tr th:only-of-type {\n",
              "        vertical-align: middle;\n",
              "    }\n",
              "\n",
              "    .dataframe tbody tr th {\n",
              "        vertical-align: top;\n",
              "    }\n",
              "\n",
              "    .dataframe thead th {\n",
              "        text-align: right;\n",
              "    }\n",
              "</style>\n",
              "<table border=\"1\" class=\"dataframe\">\n",
              "  <thead>\n",
              "    <tr style=\"text-align: right;\">\n",
              "      <th></th>\n",
              "      <th>Diametro</th>\n",
              "      <th>Ordens</th>\n",
              "      <th>Normal</th>\n",
              "      <th>Pos Skew</th>\n",
              "      <th>Neg Skew</th>\n",
              "      <th>Misterio</th>\n",
              "    </tr>\n",
              "  </thead>\n",
              "  <tbody>\n",
              "    <tr>\n",
              "      <th>0</th>\n",
              "      <td>1.25</td>\n",
              "      <td>2.0</td>\n",
              "      <td>76.296173</td>\n",
              "      <td>63.705994</td>\n",
              "      <td>77.100639</td>\n",
              "      <td>76.802063</td>\n",
              "    </tr>\n",
              "    <tr>\n",
              "      <th>1</th>\n",
              "      <td>1.45</td>\n",
              "      <td>3.0</td>\n",
              "      <td>80.738739</td>\n",
              "      <td>65.795341</td>\n",
              "      <td>70.563339</td>\n",
              "      <td>58.790665</td>\n",
              "    </tr>\n",
              "    <tr>\n",
              "      <th>2</th>\n",
              "      <td>1.23</td>\n",
              "      <td>2.0</td>\n",
              "      <td>82.474930</td>\n",
              "      <td>66.512024</td>\n",
              "      <td>73.386749</td>\n",
              "      <td>82.533379</td>\n",
              "    </tr>\n",
              "    <tr>\n",
              "      <th>3</th>\n",
              "      <td>1.22</td>\n",
              "      <td>1.0</td>\n",
              "      <td>87.897156</td>\n",
              "      <td>64.910660</td>\n",
              "      <td>64.891518</td>\n",
              "      <td>71.306450</td>\n",
              "    </tr>\n",
              "    <tr>\n",
              "      <th>4</th>\n",
              "      <td>1.45</td>\n",
              "      <td>0.0</td>\n",
              "      <td>73.646530</td>\n",
              "      <td>67.237747</td>\n",
              "      <td>76.984497</td>\n",
              "      <td>73.760651</td>\n",
              "    </tr>\n",
              "  </tbody>\n",
              "</table>\n",
              "</div>"
            ],
            "text/plain": [
              "   Diametro  Ordens     Normal   Pos Skew   Neg Skew   Misterio\n",
              "0      1.25     2.0  76.296173  63.705994  77.100639  76.802063\n",
              "1      1.45     3.0  80.738739  65.795341  70.563339  58.790665\n",
              "2      1.23     2.0  82.474930  66.512024  73.386749  82.533379\n",
              "3      1.22     1.0  87.897156  64.910660  64.891518  71.306450\n",
              "4      1.45     0.0  73.646530  67.237747  76.984497  73.760651"
            ]
          },
          "metadata": {
            "tags": []
          },
          "execution_count": 4
        }
      ]
    },
    {
      "cell_type": "code",
      "metadata": {
        "id": "DNDyoGeyiPTr"
      },
      "source": [
        "import seaborn as sns"
      ],
      "execution_count": 5,
      "outputs": []
    },
    {
      "cell_type": "code",
      "metadata": {
        "colab": {
          "base_uri": "https://localhost:8080/",
          "height": 297
        },
        "id": "NpJb7tmkLwaa",
        "outputId": "59501ca3-191e-413c-a199-00e972c0eb75"
      },
      "source": [
        "sns.histplot(df, x='Normal', color='red')"
      ],
      "execution_count": 7,
      "outputs": [
        {
          "output_type": "execute_result",
          "data": {
            "text/plain": [
              "<matplotlib.axes._subplots.AxesSubplot at 0x7fae7f7f8090>"
            ]
          },
          "metadata": {
            "tags": []
          },
          "execution_count": 7
        },
        {
          "output_type": "display_data",
          "data": {
            "image/png": "[encoded data removed]",
            "text/plain": [
              "<Figure size 432x288 with 1 Axes>"
            ]
          },
          "metadata": {
            "tags": [],
            "needs_background": "light"
          }
        }
      ]
    },
    {
      "cell_type": "code",
      "metadata": {
        "id": "qSXwHWM4PIHc"
      },
      "source": [
        "## Gerar gráfico do boxplot"
      ],
      "execution_count": 8,
      "outputs": []
    },
    {
      "cell_type": "code",
      "metadata": {
        "id": "uJkAy-tqPvBd"
      },
      "source": [
        "df_box = pd.read_csv('boxplot.csv')"
      ],
      "execution_count": 9,
      "outputs": []
    },
    {
      "cell_type": "code",
      "metadata": {
        "colab": {
          "base_uri": "https://localhost:8080/",
          "height": 198
        },
        "id": "XBEFZ3UtQagN",
        "outputId": "193bb851-b155-413b-add9-1fe7d372cd19"
      },
      "source": [
        "df_box.head()"
      ],
      "execution_count": 10,
      "outputs": [
        {
          "output_type": "execute_result",
          "data": {
            "text/html": [
              "<div>\n",
              "<style scoped>\n",
              "    .dataframe tbody tr th:only-of-type {\n",
              "        vertical-align: middle;\n",
              "    }\n",
              "\n",
              "    .dataframe tbody tr th {\n",
              "        vertical-align: top;\n",
              "    }\n",
              "\n",
              "    .dataframe thead th {\n",
              "        text-align: right;\n",
              "    }\n",
              "</style>\n",
              "<table border=\"1\" class=\"dataframe\">\n",
              "  <thead>\n",
              "    <tr style=\"text-align: right;\">\n",
              "      <th></th>\n",
              "      <th>Hospital</th>\n",
              "      <th>ALA</th>\n",
              "      <th>Tempo</th>\n",
              "    </tr>\n",
              "  </thead>\n",
              "  <tbody>\n",
              "    <tr>\n",
              "      <th>0</th>\n",
              "      <td>HOSPITAL A</td>\n",
              "      <td>Ala Infantil</td>\n",
              "      <td>18.3350</td>\n",
              "    </tr>\n",
              "    <tr>\n",
              "      <th>1</th>\n",
              "      <td>HOSPITAL A</td>\n",
              "      <td>Ala Infantil</td>\n",
              "      <td>18.5100</td>\n",
              "    </tr>\n",
              "    <tr>\n",
              "      <th>2</th>\n",
              "      <td>HOSPITAL A</td>\n",
              "      <td>Ala Infantil</td>\n",
              "      <td>18.7500</td>\n",
              "    </tr>\n",
              "    <tr>\n",
              "      <th>3</th>\n",
              "      <td>HOSPITAL A</td>\n",
              "      <td>Ala Infantil</td>\n",
              "      <td>19.0450</td>\n",
              "    </tr>\n",
              "    <tr>\n",
              "      <th>4</th>\n",
              "      <td>HOSPITAL A</td>\n",
              "      <td>Ala Infantil</td>\n",
              "      <td>18.8325</td>\n",
              "    </tr>\n",
              "  </tbody>\n",
              "</table>\n",
              "</div>"
            ],
            "text/plain": [
              "     Hospital           ALA    Tempo\n",
              "0  HOSPITAL A  Ala Infantil  18.3350\n",
              "1  HOSPITAL A  Ala Infantil  18.5100\n",
              "2  HOSPITAL A  Ala Infantil  18.7500\n",
              "3  HOSPITAL A  Ala Infantil  19.0450\n",
              "4  HOSPITAL A  Ala Infantil  18.8325"
            ]
          },
          "metadata": {
            "tags": []
          },
          "execution_count": 10
        }
      ]
    },
    {
      "cell_type": "code",
      "metadata": {
        "colab": {
          "base_uri": "https://localhost:8080/",
          "height": 297
        },
        "id": "PoTeLg54Qd5F",
        "outputId": "ae40a115-d0b2-49f9-e4cf-5d6b0815a965"
      },
      "source": [
        "sns.boxplot(x='Hospital', y='Tempo', width = 0.4, data = df_box, palette=\"Reds\")"
      ],
      "execution_count": 22,
      "outputs": [
        {
          "output_type": "execute_result",
          "data": {
            "text/plain": [
              "<matplotlib.axes._subplots.AxesSubplot at 0x7fae7a6d72d0>"
            ]
          },
          "metadata": {
            "tags": []
          },
          "execution_count": 22
        },
        {
          "output_type": "display_data",
          "data": {
            "image/png": "[encoded data removed]",
            "text/plain": [
              "<Figure size 432x288 with 1 Axes>"
            ]
          },
          "metadata": {
            "tags": [],
            "needs_background": "light"
          }
        }
      ]
    },
    {
      "cell_type": "code",
      "metadata": {
        "colab": {
          "base_uri": "https://localhost:8080/",
          "height": 297
        },
        "id": "W8W8fDfVSFfr",
        "outputId": "c18950fb-8094-4393-d937-af9e9ea7e9d1"
      },
      "source": [
        "sns.boxplot(x='Hospital', y='Tempo', showmeans=True, \r\n",
        "            width = 0.4, data = df_box, palette=\"Reds\", hue='ALA',\r\n",
        "            meanprops={\"marker\":\">\",\r\n",
        "                       \"markerfacecolor\":\"blue\", \r\n",
        "                       \"markeredgecolor\":\"red\",\r\n",
        "                      \"markersize\":\"8\"})"
      ],
      "execution_count": 40,
      "outputs": [
        {
          "output_type": "execute_result",
          "data": {
            "text/plain": [
              "<matplotlib.axes._subplots.AxesSubplot at 0x7fae79c97410>"
            ]
          },
          "metadata": {
            "tags": []
          },
          "execution_count": 40
        },
        {
          "output_type": "display_data",
          "data": {
            "image/png": "[encoded data removed]",
            "text/plain": [
              "<Figure size 432x288 with 1 Axes>"
            ]
          },
          "metadata": {
            "tags": [],
            "needs_background": "light"
          }
        }
      ]
    },
    {
      "cell_type": "code",
      "metadata": {
        "id": "og_At6LdVR7L"
      },
      "source": [
        "df_disp = pd.read_csv('dispersao.csv')"
      ],
      "execution_count": 31,
      "outputs": []
    },
    {
      "cell_type": "code",
      "metadata": {
        "colab": {
          "base_uri": "https://localhost:8080/",
          "height": 198
        },
        "id": "Sp2Dud4eaXxS",
        "outputId": "df7e9867-8ee5-4ee7-dcb9-32f4c1336956"
      },
      "source": [
        "df_disp.head()"
      ],
      "execution_count": 33,
      "outputs": [
        {
          "output_type": "execute_result",
          "data": {
            "text/html": [
              "<div>\n",
              "<style scoped>\n",
              "    .dataframe tbody tr th:only-of-type {\n",
              "        vertical-align: middle;\n",
              "    }\n",
              "\n",
              "    .dataframe tbody tr th {\n",
              "        vertical-align: top;\n",
              "    }\n",
              "\n",
              "    .dataframe thead th {\n",
              "        text-align: right;\n",
              "    }\n",
              "</style>\n",
              "<table border=\"1\" class=\"dataframe\">\n",
              "  <thead>\n",
              "    <tr style=\"text-align: right;\">\n",
              "      <th></th>\n",
              "      <th>Rendimento</th>\n",
              "      <th>Pressao</th>\n",
              "    </tr>\n",
              "  </thead>\n",
              "  <tbody>\n",
              "    <tr>\n",
              "      <th>0</th>\n",
              "      <td>68.119850</td>\n",
              "      <td>343.213755</td>\n",
              "    </tr>\n",
              "    <tr>\n",
              "      <th>1</th>\n",
              "      <td>66.521010</td>\n",
              "      <td>332.409340</td>\n",
              "    </tr>\n",
              "    <tr>\n",
              "      <th>2</th>\n",
              "      <td>73.905141</td>\n",
              "      <td>368.075840</td>\n",
              "    </tr>\n",
              "    <tr>\n",
              "      <th>3</th>\n",
              "      <td>69.989601</td>\n",
              "      <td>347.655465</td>\n",
              "    </tr>\n",
              "    <tr>\n",
              "      <th>4</th>\n",
              "      <td>63.563314</td>\n",
              "      <td>332.764751</td>\n",
              "    </tr>\n",
              "  </tbody>\n",
              "</table>\n",
              "</div>"
            ],
            "text/plain": [
              "   Rendimento     Pressao\n",
              "0   68.119850  343.213755\n",
              "1   66.521010  332.409340\n",
              "2   73.905141  368.075840\n",
              "3   69.989601  347.655465\n",
              "4   63.563314  332.764751"
            ]
          },
          "metadata": {
            "tags": []
          },
          "execution_count": 33
        }
      ]
    },
    {
      "cell_type": "code",
      "metadata": {
        "colab": {
          "base_uri": "https://localhost:8080/",
          "height": 297
        },
        "id": "Nl2vXRwQaZB1",
        "outputId": "9e77eb8f-ccdd-4b2b-b823-ae23e6385f18"
      },
      "source": [
        "sns.scatterplot(x='Pressao', y='Rendimento', data = df_disp, \r\n",
        "                marker='>', s=50, color='red')"
      ],
      "execution_count": 47,
      "outputs": [
        {
          "output_type": "execute_result",
          "data": {
            "text/plain": [
              "<matplotlib.axes._subplots.AxesSubplot at 0x7fae79858d10>"
            ]
          },
          "metadata": {
            "tags": []
          },
          "execution_count": 47
        },
        {
          "output_type": "display_data",
          "data": {
            "image/png": "[encoded data removed]",
            "text/plain": [
              "<Figure size 432x288 with 1 Axes>"
            ]
          },
          "metadata": {
            "tags": [],
            "needs_background": "light"
          }
        }
      ]
    },
    {
      "cell_type": "code",
      "metadata": {
        "id": "vbBSvXIcccL7"
      },
      "source": [
        "import matplotlib.pyplot as plt"
      ],
      "execution_count": 48,
      "outputs": []
    },
    {
      "cell_type": "code",
      "metadata": {
        "colab": {
          "base_uri": "https://localhost:8080/",
          "height": 425
        },
        "id": "vP0w_twYjv0T",
        "outputId": "d8d5a860-73ab-44e0-f4ba-7d955083b592"
      },
      "source": [
        "fig, axes = plt.subplots(1,2, figsize=(12,6))\r\n",
        "sns.histplot(df, x='Normal', color='blue', ax=axes[0])\r\n",
        "axes[0].set_title('Histograma', fontsize='15')\r\n",
        "sns.boxplot(x='Hospital', y='Tempo', showmeans=True, \r\n",
        "            width = 0.4, data = df_box, palette=\"Reds\", hue='ALA',\r\n",
        "            meanprops={\"marker\":\">\",\r\n",
        "                       \"markerfacecolor\":\"blue\", \r\n",
        "                       \"markeredgecolor\":\"red\",\r\n",
        "                      \"markersize\":\"3\"}, ax=axes[1])\r\n",
        "axes[1].set_title('Boxplot', fontsize='15')"
      ],
      "execution_count": 64,
      "outputs": [
        {
          "output_type": "execute_result",
          "data": {
            "text/plain": [
              "Text(0.5, 1.0, 'Boxplot')"
            ]
          },
          "metadata": {
            "tags": []
          },
          "execution_count": 64
        },
        {
          "output_type": "display_data",
          "data": {
            "image/png": "[encoded data removed]",
            "text/plain": [
              "<Figure size 864x432 with 2 Axes>"
            ]
          },
          "metadata": {
            "tags": [],
            "needs_background": "light"
          }
        }
      ]
    },
    {
      "cell_type": "code",
      "metadata": {
        "id": "RGThoEiHkGhU"
      },
      "source": [
        ""
      ],
      "execution_count": null,
      "outputs": []
    }
  ]
}