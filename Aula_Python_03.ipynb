{
  "nbformat": 4,
  "nbformat_minor": 0,
  "metadata": {
    "colab": {
      "name": "Aula Python - 03.ipynb",
      "provenance": [],
      "authorship_tag": "ABX9TyMc/LRPnjny8Ydz7TBbM9Xn",
      "include_colab_link": true
    },
    "kernelspec": {
      "name": "python3",
      "display_name": "Python 3"
    },
    "language_info": {
      "name": "python"
    }
  },
  "cells": [
    {
      "cell_type": "markdown",
      "metadata": {
        "id": "view-in-github",
        "colab_type": "text"
      },
      "source": [
        "<a href=\"https://colab.research.google.com/github/afraniofilho/GB_Python_Irep/blob/main/Aula_Python_03.ipynb\" target=\"_parent\"><img src=\"https://colab.research.google.com/assets/colab-badge.svg\" alt=\"Open In Colab\"/></a>"
      ]
    },
    {
      "cell_type": "code",
      "metadata": {
        "id": "a7DJ-v5pt2Ox"
      },
      "source": [
        "import matplotlib.pyplot as plt"
      ],
      "execution_count": 1,
      "outputs": []
    },
    {
      "cell_type": "code",
      "metadata": {
        "colab": {
          "base_uri": "https://localhost:8080/",
          "height": 269
        },
        "id": "I-NuW6KguNQI",
        "outputId": "253f149d-a7d6-45e5-c266-0c1fe1e7af41"
      },
      "source": [
        "fig, axes = plt.subplots(1, 2)"
      ],
      "execution_count": 4,
      "outputs": [
        {
          "output_type": "display_data",
          "data": {
            "image/png": "[encoded data removed]",
            "text/plain": [
              "<Figure size 432x288 with 2 Axes>"
            ]
          },
          "metadata": {
            "needs_background": "light"
          }
        }
      ]
    },
    {
      "cell_type": "code",
      "metadata": {
        "id": "-3srvQUEulks"
      },
      "source": [
        "import pandas as pd"
      ],
      "execution_count": 5,
      "outputs": []
    },
    {
      "cell_type": "code",
      "metadata": {
        "id": "hpgPjPa0vN0Z"
      },
      "source": [
        "df = pd.read_csv('EB.csv')"
      ],
      "execution_count": 8,
      "outputs": []
    },
    {
      "cell_type": "code",
      "metadata": {
        "colab": {
          "base_uri": "https://localhost:8080/",
          "height": 423
        },
        "id": "-is9ZW3RvVMa",
        "outputId": "8082f8a6-a604-4645-82f8-2cf74fce866b"
      },
      "source": [
        "df"
      ],
      "execution_count": 9,
      "outputs": [
        {
          "output_type": "execute_result",
          "data": {
            "text/html": [
              "<div>\n",
              "<style scoped>\n",
              "    .dataframe tbody tr th:only-of-type {\n",
              "        vertical-align: middle;\n",
              "    }\n",
              "\n",
              "    .dataframe tbody tr th {\n",
              "        vertical-align: top;\n",
              "    }\n",
              "\n",
              "    .dataframe thead th {\n",
              "        text-align: right;\n",
              "    }\n",
              "</style>\n",
              "<table border=\"1\" class=\"dataframe\">\n",
              "  <thead>\n",
              "    <tr style=\"text-align: right;\">\n",
              "      <th></th>\n",
              "      <th>Diametro</th>\n",
              "      <th>Ordens</th>\n",
              "      <th>Normal</th>\n",
              "      <th>Pos Skew</th>\n",
              "      <th>Neg Skew</th>\n",
              "      <th>Misterio</th>\n",
              "    </tr>\n",
              "  </thead>\n",
              "  <tbody>\n",
              "    <tr>\n",
              "      <th>0</th>\n",
              "      <td>1.25</td>\n",
              "      <td>2.0</td>\n",
              "      <td>76.296173</td>\n",
              "      <td>63.705994</td>\n",
              "      <td>77.100639</td>\n",
              "      <td>76.802063</td>\n",
              "    </tr>\n",
              "    <tr>\n",
              "      <th>1</th>\n",
              "      <td>1.45</td>\n",
              "      <td>3.0</td>\n",
              "      <td>80.738739</td>\n",
              "      <td>65.795341</td>\n",
              "      <td>70.563339</td>\n",
              "      <td>58.790665</td>\n",
              "    </tr>\n",
              "    <tr>\n",
              "      <th>2</th>\n",
              "      <td>1.23</td>\n",
              "      <td>2.0</td>\n",
              "      <td>82.474930</td>\n",
              "      <td>66.512024</td>\n",
              "      <td>73.386749</td>\n",
              "      <td>82.533379</td>\n",
              "    </tr>\n",
              "    <tr>\n",
              "      <th>3</th>\n",
              "      <td>1.22</td>\n",
              "      <td>1.0</td>\n",
              "      <td>87.897156</td>\n",
              "      <td>64.910660</td>\n",
              "      <td>64.891518</td>\n",
              "      <td>71.306450</td>\n",
              "    </tr>\n",
              "    <tr>\n",
              "      <th>4</th>\n",
              "      <td>1.45</td>\n",
              "      <td>0.0</td>\n",
              "      <td>73.646530</td>\n",
              "      <td>67.237747</td>\n",
              "      <td>76.984497</td>\n",
              "      <td>73.760651</td>\n",
              "    </tr>\n",
              "    <tr>\n",
              "      <th>...</th>\n",
              "      <td>...</td>\n",
              "      <td>...</td>\n",
              "      <td>...</td>\n",
              "      <td>...</td>\n",
              "      <td>...</td>\n",
              "      <td>...</td>\n",
              "    </tr>\n",
              "    <tr>\n",
              "      <th>495</th>\n",
              "      <td>NaN</td>\n",
              "      <td>NaN</td>\n",
              "      <td>73.377541</td>\n",
              "      <td>62.921150</td>\n",
              "      <td>72.298492</td>\n",
              "      <td>118.055374</td>\n",
              "    </tr>\n",
              "    <tr>\n",
              "      <th>496</th>\n",
              "      <td>NaN</td>\n",
              "      <td>NaN</td>\n",
              "      <td>54.317173</td>\n",
              "      <td>82.124977</td>\n",
              "      <td>76.631279</td>\n",
              "      <td>133.694824</td>\n",
              "    </tr>\n",
              "    <tr>\n",
              "      <th>497</th>\n",
              "      <td>NaN</td>\n",
              "      <td>NaN</td>\n",
              "      <td>64.908524</td>\n",
              "      <td>67.107224</td>\n",
              "      <td>71.980598</td>\n",
              "      <td>133.804810</td>\n",
              "    </tr>\n",
              "    <tr>\n",
              "      <th>498</th>\n",
              "      <td>NaN</td>\n",
              "      <td>NaN</td>\n",
              "      <td>74.645348</td>\n",
              "      <td>65.141914</td>\n",
              "      <td>76.855118</td>\n",
              "      <td>127.145119</td>\n",
              "    </tr>\n",
              "    <tr>\n",
              "      <th>499</th>\n",
              "      <td>NaN</td>\n",
              "      <td>NaN</td>\n",
              "      <td>60.578156</td>\n",
              "      <td>64.501343</td>\n",
              "      <td>70.845062</td>\n",
              "      <td>116.213173</td>\n",
              "    </tr>\n",
              "  </tbody>\n",
              "</table>\n",
              "<p>500 rows × 6 columns</p>\n",
              "</div>"
            ],
            "text/plain": [
              "     Diametro  Ordens     Normal   Pos Skew   Neg Skew    Misterio\n",
              "0        1.25     2.0  76.296173  63.705994  77.100639   76.802063\n",
              "1        1.45     3.0  80.738739  65.795341  70.563339   58.790665\n",
              "2        1.23     2.0  82.474930  66.512024  73.386749   82.533379\n",
              "3        1.22     1.0  87.897156  64.910660  64.891518   71.306450\n",
              "4        1.45     0.0  73.646530  67.237747  76.984497   73.760651\n",
              "..        ...     ...        ...        ...        ...         ...\n",
              "495       NaN     NaN  73.377541  62.921150  72.298492  118.055374\n",
              "496       NaN     NaN  54.317173  82.124977  76.631279  133.694824\n",
              "497       NaN     NaN  64.908524  67.107224  71.980598  133.804810\n",
              "498       NaN     NaN  74.645348  65.141914  76.855118  127.145119\n",
              "499       NaN     NaN  60.578156  64.501343  70.845062  116.213173\n",
              "\n",
              "[500 rows x 6 columns]"
            ]
          },
          "metadata": {},
          "execution_count": 9
        }
      ]
    },
    {
      "cell_type": "code",
      "metadata": {
        "id": "0DBguSAJvV9S"
      },
      "source": [
        "df_box = pd.read_csv('boxplot.csv')"
      ],
      "execution_count": 10,
      "outputs": []
    },
    {
      "cell_type": "code",
      "metadata": {
        "colab": {
          "base_uri": "https://localhost:8080/",
          "height": 206
        },
        "id": "0OERN20lv4NX",
        "outputId": "1dd59ec9-0a95-4039-f58b-db9e915c6286"
      },
      "source": [
        "df_box.head()"
      ],
      "execution_count": 34,
      "outputs": [
        {
          "output_type": "execute_result",
          "data": {
            "text/html": [
              "<div>\n",
              "<style scoped>\n",
              "    .dataframe tbody tr th:only-of-type {\n",
              "        vertical-align: middle;\n",
              "    }\n",
              "\n",
              "    .dataframe tbody tr th {\n",
              "        vertical-align: top;\n",
              "    }\n",
              "\n",
              "    .dataframe thead th {\n",
              "        text-align: right;\n",
              "    }\n",
              "</style>\n",
              "<table border=\"1\" class=\"dataframe\">\n",
              "  <thead>\n",
              "    <tr style=\"text-align: right;\">\n",
              "      <th></th>\n",
              "      <th>Hospital</th>\n",
              "      <th>ALA</th>\n",
              "      <th>Tempo</th>\n",
              "    </tr>\n",
              "  </thead>\n",
              "  <tbody>\n",
              "    <tr>\n",
              "      <th>0</th>\n",
              "      <td>HOSPITAL A</td>\n",
              "      <td>Ala Infantil</td>\n",
              "      <td>18.3350</td>\n",
              "    </tr>\n",
              "    <tr>\n",
              "      <th>1</th>\n",
              "      <td>HOSPITAL A</td>\n",
              "      <td>Ala Infantil</td>\n",
              "      <td>18.5100</td>\n",
              "    </tr>\n",
              "    <tr>\n",
              "      <th>2</th>\n",
              "      <td>HOSPITAL A</td>\n",
              "      <td>Ala Infantil</td>\n",
              "      <td>18.7500</td>\n",
              "    </tr>\n",
              "    <tr>\n",
              "      <th>3</th>\n",
              "      <td>HOSPITAL A</td>\n",
              "      <td>Ala Infantil</td>\n",
              "      <td>19.0450</td>\n",
              "    </tr>\n",
              "    <tr>\n",
              "      <th>4</th>\n",
              "      <td>HOSPITAL A</td>\n",
              "      <td>Ala Infantil</td>\n",
              "      <td>18.8325</td>\n",
              "    </tr>\n",
              "  </tbody>\n",
              "</table>\n",
              "</div>"
            ],
            "text/plain": [
              "     Hospital           ALA    Tempo\n",
              "0  HOSPITAL A  Ala Infantil  18.3350\n",
              "1  HOSPITAL A  Ala Infantil  18.5100\n",
              "2  HOSPITAL A  Ala Infantil  18.7500\n",
              "3  HOSPITAL A  Ala Infantil  19.0450\n",
              "4  HOSPITAL A  Ala Infantil  18.8325"
            ]
          },
          "metadata": {},
          "execution_count": 34
        }
      ]
    },
    {
      "cell_type": "code",
      "metadata": {
        "colab": {
          "base_uri": "https://localhost:8080/",
          "height": 269
        },
        "id": "RJgUX3Jwv6mS",
        "outputId": "ac739a96-0db4-47dc-f1de-dc4ead0ba888"
      },
      "source": [
        "fig, axes = plt.subplots(1, 2)"
      ],
      "execution_count": 12,
      "outputs": [
        {
          "output_type": "display_data",
          "data": {
            "image/png": "[encoded data removed]",
            "text/plain": [
              "<Figure size 432x288 with 2 Axes>"
            ]
          },
          "metadata": {
            "needs_background": "light"
          }
        }
      ]
    },
    {
      "cell_type": "code",
      "metadata": {
        "id": "FTuD1wcmwQxZ"
      },
      "source": [
        "import seaborn as sns"
      ],
      "execution_count": 13,
      "outputs": []
    },
    {
      "cell_type": "code",
      "metadata": {
        "id": "EzRkbMPlx7sK"
      },
      "source": [
        "nome, sobrenome, sobrenome2 = 'afranio', 'costa', 'filho'"
      ],
      "execution_count": 28,
      "outputs": []
    },
    {
      "cell_type": "code",
      "metadata": {
        "colab": {
          "base_uri": "https://localhost:8080/",
          "height": 35
        },
        "id": "JPxTvoxKyFpT",
        "outputId": "8637f70f-6ef1-4129-e7b7-8b0e8b706271"
      },
      "source": [
        "sobrenome2"
      ],
      "execution_count": 29,
      "outputs": [
        {
          "output_type": "execute_result",
          "data": {
            "application/vnd.google.colaboratory.intrinsic+json": {
              "type": "string"
            },
            "text/plain": [
              "'filho'"
            ]
          },
          "metadata": {},
          "execution_count": 29
        }
      ]
    },
    {
      "cell_type": "code",
      "metadata": {
        "colab": {
          "base_uri": "https://localhost:8080/",
          "height": 423
        },
        "id": "bA_gGTH7wWfH",
        "outputId": "8a487ae9-6677-4a75-caa5-b434835fd0c9"
      },
      "source": [
        "fig, axes = plt.subplots(1, 2, figsize=(10,6))\n",
        "sns.set_style(\"darkgrid\", {\"grid.color\": \".6\", \"grid.linestyle\": \":\"})\n",
        "sns.histplot(df, color='blue',  ax=axes[0], x='Normal')\n",
        "axes[0].set_title('Histograma', fontsize=15)\n",
        "sns.boxplot(data=df_box, x='Hospital', y='Tempo', width=0.9, hue='ALA', ax=axes[1], palette = 'Reds')\n",
        "axes[1].set_title('Boxplot', fontsize=15)"
      ],
      "execution_count": 56,
      "outputs": [
        {
          "output_type": "execute_result",
          "data": {
            "text/plain": [
              "Text(0.5, 1.0, 'Boxplot')"
            ]
          },
          "metadata": {},
          "execution_count": 56
        },
        {
          "output_type": "display_data",
          "data": {
            "image/png": "[encoded data removed]",
            "text/plain": [
              "<Figure size 720x432 with 2 Axes>"
            ]
          },
          "metadata": {}
        }
      ]
    },
    {
      "cell_type": "code",
      "metadata": {
        "colab": {
          "base_uri": "https://localhost:8080/"
        },
        "id": "rDNB5bi-xDDl",
        "outputId": "136e317b-98c7-4058-b1e4-dc3a4db14b17"
      },
      "source": [
        "axes"
      ],
      "execution_count": 31,
      "outputs": [
        {
          "output_type": "execute_result",
          "data": {
            "text/plain": [
              "array([<matplotlib.axes._subplots.AxesSubplot object at 0x7fca3a1ac2d0>,\n",
              "       <matplotlib.axes._subplots.AxesSubplot object at 0x7fca39807550>],\n",
              "      dtype=object)"
            ]
          },
          "metadata": {},
          "execution_count": 31
        }
      ]
    },
    {
      "cell_type": "code",
      "metadata": {
        "id": "sTve9yVdyfrq"
      },
      "source": [
        ""
      ],
      "execution_count": null,
      "outputs": []
    }
  ]
}