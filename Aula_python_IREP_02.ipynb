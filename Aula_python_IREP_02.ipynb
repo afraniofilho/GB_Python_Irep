{
  "nbformat": 4,
  "nbformat_minor": 0,
  "metadata": {
    "colab": {
      "name": "Aula python IREP 02.ipynb",
      "provenance": [],
      "authorship_tag": "ABX9TyPsBXNhvJf7reb3X8VPcyJH",
      "include_colab_link": true
    },
    "kernelspec": {
      "name": "python3",
      "display_name": "Python 3"
    },
    "language_info": {
      "name": "python"
    }
  },
  "cells": [
    {
      "cell_type": "markdown",
      "metadata": {
        "id": "view-in-github",
        "colab_type": "text"
      },
      "source": [
        "<a href=\"https://colab.research.google.com/github/afraniofilho/GB_Python_Irep/blob/main/Aula_python_IREP_02.ipynb\" target=\"_parent\"><img src=\"https://colab.research.google.com/assets/colab-badge.svg\" alt=\"Open In Colab\"/></a>"
      ]
    },
    {
      "cell_type": "code",
      "metadata": {
        "id": "J8064spp41A9"
      },
      "source": [
        "import pandas as pd\n",
        "import seaborn as sns"
      ],
      "execution_count": null,
      "outputs": []
    },
    {
      "cell_type": "code",
      "metadata": {
        "id": "12nicygw5akD"
      },
      "source": [
        "df = pd.read_csv('boxplot.csv')"
      ],
      "execution_count": null,
      "outputs": []
    },
    {
      "cell_type": "code",
      "metadata": {
        "colab": {
          "base_uri": "https://localhost:8080/",
          "height": 203
        },
        "id": "dj39rPOn57V4",
        "outputId": "9fd081f2-b5ec-41a5-9d2a-49a30af5f24d"
      },
      "source": [
        "df.head()"
      ],
      "execution_count": null,
      "outputs": [
        {
          "output_type": "execute_result",
          "data": {
            "text/html": [
              "<div>\n",
              "<style scoped>\n",
              "    .dataframe tbody tr th:only-of-type {\n",
              "        vertical-align: middle;\n",
              "    }\n",
              "\n",
              "    .dataframe tbody tr th {\n",
              "        vertical-align: top;\n",
              "    }\n",
              "\n",
              "    .dataframe thead th {\n",
              "        text-align: right;\n",
              "    }\n",
              "</style>\n",
              "<table border=\"1\" class=\"dataframe\">\n",
              "  <thead>\n",
              "    <tr style=\"text-align: right;\">\n",
              "      <th></th>\n",
              "      <th>Hospital</th>\n",
              "      <th>ALA</th>\n",
              "      <th>Tempo</th>\n",
              "    </tr>\n",
              "  </thead>\n",
              "  <tbody>\n",
              "    <tr>\n",
              "      <th>0</th>\n",
              "      <td>HOSPITAL A</td>\n",
              "      <td>Ala Infantil</td>\n",
              "      <td>18.3350</td>\n",
              "    </tr>\n",
              "    <tr>\n",
              "      <th>1</th>\n",
              "      <td>HOSPITAL A</td>\n",
              "      <td>Ala Infantil</td>\n",
              "      <td>18.5100</td>\n",
              "    </tr>\n",
              "    <tr>\n",
              "      <th>2</th>\n",
              "      <td>HOSPITAL A</td>\n",
              "      <td>Ala Infantil</td>\n",
              "      <td>18.7500</td>\n",
              "    </tr>\n",
              "    <tr>\n",
              "      <th>3</th>\n",
              "      <td>HOSPITAL A</td>\n",
              "      <td>Ala Infantil</td>\n",
              "      <td>19.0450</td>\n",
              "    </tr>\n",
              "    <tr>\n",
              "      <th>4</th>\n",
              "      <td>HOSPITAL A</td>\n",
              "      <td>Ala Infantil</td>\n",
              "      <td>18.8325</td>\n",
              "    </tr>\n",
              "  </tbody>\n",
              "</table>\n",
              "</div>"
            ],
            "text/plain": [
              "     Hospital           ALA    Tempo\n",
              "0  HOSPITAL A  Ala Infantil  18.3350\n",
              "1  HOSPITAL A  Ala Infantil  18.5100\n",
              "2  HOSPITAL A  Ala Infantil  18.7500\n",
              "3  HOSPITAL A  Ala Infantil  19.0450\n",
              "4  HOSPITAL A  Ala Infantil  18.8325"
            ]
          },
          "metadata": {
            "tags": []
          },
          "execution_count": 8
        }
      ]
    },
    {
      "cell_type": "code",
      "metadata": {
        "colab": {
          "base_uri": "https://localhost:8080/",
          "height": 302
        },
        "id": "JXOJyndb6Jbl",
        "outputId": "37f98a3e-392f-4fad-f450-b0339edaa4e2"
      },
      "source": [
        "sns.set(style=\"darkgrid\")\n",
        "sns.boxplot(x='Hospital', y='Tempo', hue='ALA' ,data=df, width=0.8, orient='vertical', palette=\"Set3\", showmeans=True,\n",
        "            meanprops={'marker' : '*', 'markersize' : '12', 'markerfacecolor': 'red'})"
      ],
      "execution_count": null,
      "outputs": [
        {
          "output_type": "execute_result",
          "data": {
            "text/plain": [
              "<matplotlib.axes._subplots.AxesSubplot at 0x7ff6cffead50>"
            ]
          },
          "metadata": {
            "tags": []
          },
          "execution_count": 28
        },
        {
          "output_type": "display_data",
          "data": {
            "image/png": "[encoded data removed]",
            "text/plain": [
              "<Figure size 432x288 with 1 Axes>"
            ]
          },
          "metadata": {
            "tags": []
          }
        }
      ]
    },
    {
      "cell_type": "code",
      "metadata": {
        "id": "fR3ysLLN78yO"
      },
      "source": [
        "df = pd.read_csv('dispersao.csv')"
      ],
      "execution_count": null,
      "outputs": []
    },
    {
      "cell_type": "code",
      "metadata": {
        "colab": {
          "base_uri": "https://localhost:8080/",
          "height": 203
        },
        "id": "V9q7mHFaCW--",
        "outputId": "929b69ac-1cc1-4eb6-dd55-73a43a190349"
      },
      "source": [
        "df.head()"
      ],
      "execution_count": null,
      "outputs": [
        {
          "output_type": "execute_result",
          "data": {
            "text/html": [
              "<div>\n",
              "<style scoped>\n",
              "    .dataframe tbody tr th:only-of-type {\n",
              "        vertical-align: middle;\n",
              "    }\n",
              "\n",
              "    .dataframe tbody tr th {\n",
              "        vertical-align: top;\n",
              "    }\n",
              "\n",
              "    .dataframe thead th {\n",
              "        text-align: right;\n",
              "    }\n",
              "</style>\n",
              "<table border=\"1\" class=\"dataframe\">\n",
              "  <thead>\n",
              "    <tr style=\"text-align: right;\">\n",
              "      <th></th>\n",
              "      <th>Rendimento</th>\n",
              "      <th>Pressao</th>\n",
              "    </tr>\n",
              "  </thead>\n",
              "  <tbody>\n",
              "    <tr>\n",
              "      <th>0</th>\n",
              "      <td>68.119850</td>\n",
              "      <td>343.213755</td>\n",
              "    </tr>\n",
              "    <tr>\n",
              "      <th>1</th>\n",
              "      <td>66.521010</td>\n",
              "      <td>332.409340</td>\n",
              "    </tr>\n",
              "    <tr>\n",
              "      <th>2</th>\n",
              "      <td>73.905141</td>\n",
              "      <td>368.075840</td>\n",
              "    </tr>\n",
              "    <tr>\n",
              "      <th>3</th>\n",
              "      <td>69.989601</td>\n",
              "      <td>347.655465</td>\n",
              "    </tr>\n",
              "    <tr>\n",
              "      <th>4</th>\n",
              "      <td>63.563314</td>\n",
              "      <td>332.764751</td>\n",
              "    </tr>\n",
              "  </tbody>\n",
              "</table>\n",
              "</div>"
            ],
            "text/plain": [
              "   Rendimento     Pressao\n",
              "0   68.119850  343.213755\n",
              "1   66.521010  332.409340\n",
              "2   73.905141  368.075840\n",
              "3   69.989601  347.655465\n",
              "4   63.563314  332.764751"
            ]
          },
          "metadata": {
            "tags": []
          },
          "execution_count": 30
        }
      ]
    },
    {
      "cell_type": "code",
      "metadata": {
        "colab": {
          "base_uri": "https://localhost:8080/",
          "height": 302
        },
        "id": "ODUrsntNCZaK",
        "outputId": "42a02053-e9b4-4fe5-98c5-cf805d7acb44"
      },
      "source": [
        "sns.scatterplot(x='Pressao', y='Rendimento', data=df, marker='>', s=50, color='red')"
      ],
      "execution_count": null,
      "outputs": [
        {
          "output_type": "execute_result",
          "data": {
            "text/plain": [
              "<matplotlib.axes._subplots.AxesSubplot at 0x7ff6cf42fa10>"
            ]
          },
          "metadata": {
            "tags": []
          },
          "execution_count": 32
        },
        {
          "output_type": "display_data",
          "data": {
            "image/png": "[encoded data removed]",
            "text/plain": [
              "<Figure size 432x288 with 1 Axes>"
            ]
          },
          "metadata": {
            "tags": []
          }
        }
      ]
    },
    {
      "cell_type": "code",
      "metadata": {
        "id": "P81_dVNzDzj-"
      },
      "source": [
        "#Gerar múltiplos gráficos utilizando a biblioteca pyplot"
      ],
      "execution_count": null,
      "outputs": []
    },
    {
      "cell_type": "code",
      "metadata": {
        "id": "dKY9npoPGQ13"
      },
      "source": [
        "import matplotlib.pyplot as plt"
      ],
      "execution_count": null,
      "outputs": []
    },
    {
      "cell_type": "code",
      "metadata": {
        "colab": {
          "base_uri": "https://localhost:8080/",
          "height": 272
        },
        "id": "hEd3uf8VGhvX",
        "outputId": "9c94220b-a36e-4172-edf2-8384141ba7cf"
      },
      "source": [
        "fig, axes = plt.subplots(1, 2)"
      ],
      "execution_count": null,
      "outputs": [
        {
          "output_type": "display_data",
          "data": {
            "image/png": "[encoded data removed]",
            "text/plain": [
              "<Figure size 432x288 with 2 Axes>"
            ]
          },
          "metadata": {
            "tags": []
          }
        }
      ]
    },
    {
      "cell_type": "code",
      "metadata": {
        "id": "OEvUIsE2G8Vb"
      },
      "source": [
        "df_box = pd.read_csv('boxplot.csv')"
      ],
      "execution_count": null,
      "outputs": []
    },
    {
      "cell_type": "code",
      "metadata": {
        "colab": {
          "base_uri": "https://localhost:8080/",
          "height": 1000
        },
        "id": "58NxOacALoel",
        "outputId": "07d3e186-c910-4843-95a0-0c89227ca235"
      },
      "source": [
        "df_box"
      ],
      "execution_count": null,
      "outputs": [
        {
          "output_type": "execute_result",
          "data": {
            "text/html": [
              "<div>\n",
              "<style scoped>\n",
              "    .dataframe tbody tr th:only-of-type {\n",
              "        vertical-align: middle;\n",
              "    }\n",
              "\n",
              "    .dataframe tbody tr th {\n",
              "        vertical-align: top;\n",
              "    }\n",
              "\n",
              "    .dataframe thead th {\n",
              "        text-align: right;\n",
              "    }\n",
              "</style>\n",
              "<table border=\"1\" class=\"dataframe\">\n",
              "  <thead>\n",
              "    <tr style=\"text-align: right;\">\n",
              "      <th></th>\n",
              "      <th>Hospital</th>\n",
              "      <th>ALA</th>\n",
              "      <th>Tempo</th>\n",
              "    </tr>\n",
              "  </thead>\n",
              "  <tbody>\n",
              "    <tr>\n",
              "      <th>0</th>\n",
              "      <td>HOSPITAL A</td>\n",
              "      <td>Ala Infantil</td>\n",
              "      <td>18.335000</td>\n",
              "    </tr>\n",
              "    <tr>\n",
              "      <th>1</th>\n",
              "      <td>HOSPITAL A</td>\n",
              "      <td>Ala Infantil</td>\n",
              "      <td>18.510000</td>\n",
              "    </tr>\n",
              "    <tr>\n",
              "      <th>2</th>\n",
              "      <td>HOSPITAL A</td>\n",
              "      <td>Ala Infantil</td>\n",
              "      <td>18.750000</td>\n",
              "    </tr>\n",
              "    <tr>\n",
              "      <th>3</th>\n",
              "      <td>HOSPITAL A</td>\n",
              "      <td>Ala Infantil</td>\n",
              "      <td>19.045000</td>\n",
              "    </tr>\n",
              "    <tr>\n",
              "      <th>4</th>\n",
              "      <td>HOSPITAL A</td>\n",
              "      <td>Ala Infantil</td>\n",
              "      <td>18.832500</td>\n",
              "    </tr>\n",
              "    <tr>\n",
              "      <th>5</th>\n",
              "      <td>HOSPITAL A</td>\n",
              "      <td>Ala Infantil</td>\n",
              "      <td>19.187500</td>\n",
              "    </tr>\n",
              "    <tr>\n",
              "      <th>6</th>\n",
              "      <td>HOSPITAL A</td>\n",
              "      <td>Ala Infantil</td>\n",
              "      <td>19.195000</td>\n",
              "    </tr>\n",
              "    <tr>\n",
              "      <th>7</th>\n",
              "      <td>HOSPITAL A</td>\n",
              "      <td>Ala Infantil</td>\n",
              "      <td>18.685000</td>\n",
              "    </tr>\n",
              "    <tr>\n",
              "      <th>8</th>\n",
              "      <td>HOSPITAL A</td>\n",
              "      <td>Ala Infantil</td>\n",
              "      <td>18.145000</td>\n",
              "    </tr>\n",
              "    <tr>\n",
              "      <th>9</th>\n",
              "      <td>HOSPITAL A</td>\n",
              "      <td>Ala Infantil</td>\n",
              "      <td>18.215000</td>\n",
              "    </tr>\n",
              "    <tr>\n",
              "      <th>10</th>\n",
              "      <td>HOSPITAL A</td>\n",
              "      <td>Geriatria</td>\n",
              "      <td>16.465312</td>\n",
              "    </tr>\n",
              "    <tr>\n",
              "      <th>11</th>\n",
              "      <td>HOSPITAL A</td>\n",
              "      <td>Geriatria</td>\n",
              "      <td>16.478437</td>\n",
              "    </tr>\n",
              "    <tr>\n",
              "      <th>12</th>\n",
              "      <td>HOSPITAL A</td>\n",
              "      <td>Geriatria</td>\n",
              "      <td>16.314375</td>\n",
              "    </tr>\n",
              "    <tr>\n",
              "      <th>13</th>\n",
              "      <td>HOSPITAL A</td>\n",
              "      <td>Geriatria</td>\n",
              "      <td>16.408437</td>\n",
              "    </tr>\n",
              "    <tr>\n",
              "      <th>14</th>\n",
              "      <td>HOSPITAL A</td>\n",
              "      <td>Geriatria</td>\n",
              "      <td>16.561562</td>\n",
              "    </tr>\n",
              "    <tr>\n",
              "      <th>15</th>\n",
              "      <td>HOSPITAL A</td>\n",
              "      <td>Geriatria</td>\n",
              "      <td>16.393125</td>\n",
              "    </tr>\n",
              "    <tr>\n",
              "      <th>16</th>\n",
              "      <td>HOSPITAL A</td>\n",
              "      <td>Geriatria</td>\n",
              "      <td>16.460938</td>\n",
              "    </tr>\n",
              "    <tr>\n",
              "      <th>17</th>\n",
              "      <td>HOSPITAL A</td>\n",
              "      <td>Geriatria</td>\n",
              "      <td>16.502500</td>\n",
              "    </tr>\n",
              "    <tr>\n",
              "      <th>18</th>\n",
              "      <td>HOSPITAL A</td>\n",
              "      <td>Geriatria</td>\n",
              "      <td>16.323125</td>\n",
              "    </tr>\n",
              "    <tr>\n",
              "      <th>19</th>\n",
              "      <td>HOSPITAL A</td>\n",
              "      <td>Geriatria</td>\n",
              "      <td>16.482812</td>\n",
              "    </tr>\n",
              "    <tr>\n",
              "      <th>20</th>\n",
              "      <td>HOSPITAL B</td>\n",
              "      <td>Ala Infantil</td>\n",
              "      <td>18.982500</td>\n",
              "    </tr>\n",
              "    <tr>\n",
              "      <th>21</th>\n",
              "      <td>HOSPITAL B</td>\n",
              "      <td>Ala Infantil</td>\n",
              "      <td>19.237500</td>\n",
              "    </tr>\n",
              "    <tr>\n",
              "      <th>22</th>\n",
              "      <td>HOSPITAL B</td>\n",
              "      <td>Ala Infantil</td>\n",
              "      <td>18.867500</td>\n",
              "    </tr>\n",
              "    <tr>\n",
              "      <th>23</th>\n",
              "      <td>HOSPITAL B</td>\n",
              "      <td>Ala Infantil</td>\n",
              "      <td>18.400000</td>\n",
              "    </tr>\n",
              "    <tr>\n",
              "      <th>24</th>\n",
              "      <td>HOSPITAL B</td>\n",
              "      <td>Ala Infantil</td>\n",
              "      <td>18.712500</td>\n",
              "    </tr>\n",
              "    <tr>\n",
              "      <th>25</th>\n",
              "      <td>HOSPITAL B</td>\n",
              "      <td>Ala Infantil</td>\n",
              "      <td>18.995000</td>\n",
              "    </tr>\n",
              "    <tr>\n",
              "      <th>26</th>\n",
              "      <td>HOSPITAL B</td>\n",
              "      <td>Ala Infantil</td>\n",
              "      <td>18.902500</td>\n",
              "    </tr>\n",
              "    <tr>\n",
              "      <th>27</th>\n",
              "      <td>HOSPITAL B</td>\n",
              "      <td>Ala Infantil</td>\n",
              "      <td>18.550000</td>\n",
              "    </tr>\n",
              "    <tr>\n",
              "      <th>28</th>\n",
              "      <td>HOSPITAL B</td>\n",
              "      <td>Ala Infantil</td>\n",
              "      <td>19.110000</td>\n",
              "    </tr>\n",
              "    <tr>\n",
              "      <th>29</th>\n",
              "      <td>HOSPITAL B</td>\n",
              "      <td>Ala Infantil</td>\n",
              "      <td>19.210000</td>\n",
              "    </tr>\n",
              "    <tr>\n",
              "      <th>30</th>\n",
              "      <td>HOSPITAL B</td>\n",
              "      <td>Geriatria</td>\n",
              "      <td>18.732500</td>\n",
              "    </tr>\n",
              "    <tr>\n",
              "      <th>31</th>\n",
              "      <td>HOSPITAL B</td>\n",
              "      <td>Geriatria</td>\n",
              "      <td>18.680000</td>\n",
              "    </tr>\n",
              "    <tr>\n",
              "      <th>32</th>\n",
              "      <td>HOSPITAL B</td>\n",
              "      <td>Geriatria</td>\n",
              "      <td>18.632500</td>\n",
              "    </tr>\n",
              "    <tr>\n",
              "      <th>33</th>\n",
              "      <td>HOSPITAL B</td>\n",
              "      <td>Geriatria</td>\n",
              "      <td>18.830000</td>\n",
              "    </tr>\n",
              "    <tr>\n",
              "      <th>34</th>\n",
              "      <td>HOSPITAL B</td>\n",
              "      <td>Geriatria</td>\n",
              "      <td>18.512500</td>\n",
              "    </tr>\n",
              "    <tr>\n",
              "      <th>35</th>\n",
              "      <td>HOSPITAL B</td>\n",
              "      <td>Geriatria</td>\n",
              "      <td>18.687500</td>\n",
              "    </tr>\n",
              "    <tr>\n",
              "      <th>36</th>\n",
              "      <td>HOSPITAL B</td>\n",
              "      <td>Geriatria</td>\n",
              "      <td>18.662500</td>\n",
              "    </tr>\n",
              "    <tr>\n",
              "      <th>37</th>\n",
              "      <td>HOSPITAL B</td>\n",
              "      <td>Geriatria</td>\n",
              "      <td>18.735000</td>\n",
              "    </tr>\n",
              "    <tr>\n",
              "      <th>38</th>\n",
              "      <td>HOSPITAL B</td>\n",
              "      <td>Geriatria</td>\n",
              "      <td>18.730000</td>\n",
              "    </tr>\n",
              "    <tr>\n",
              "      <th>39</th>\n",
              "      <td>HOSPITAL B</td>\n",
              "      <td>Geriatria</td>\n",
              "      <td>18.865000</td>\n",
              "    </tr>\n",
              "  </tbody>\n",
              "</table>\n",
              "</div>"
            ],
            "text/plain": [
              "      Hospital           ALA      Tempo\n",
              "0   HOSPITAL A  Ala Infantil  18.335000\n",
              "1   HOSPITAL A  Ala Infantil  18.510000\n",
              "2   HOSPITAL A  Ala Infantil  18.750000\n",
              "3   HOSPITAL A  Ala Infantil  19.045000\n",
              "4   HOSPITAL A  Ala Infantil  18.832500\n",
              "5   HOSPITAL A  Ala Infantil  19.187500\n",
              "6   HOSPITAL A  Ala Infantil  19.195000\n",
              "7   HOSPITAL A  Ala Infantil  18.685000\n",
              "8   HOSPITAL A  Ala Infantil  18.145000\n",
              "9   HOSPITAL A  Ala Infantil  18.215000\n",
              "10  HOSPITAL A     Geriatria  16.465312\n",
              "11  HOSPITAL A     Geriatria  16.478437\n",
              "12  HOSPITAL A     Geriatria  16.314375\n",
              "13  HOSPITAL A     Geriatria  16.408437\n",
              "14  HOSPITAL A     Geriatria  16.561562\n",
              "15  HOSPITAL A     Geriatria  16.393125\n",
              "16  HOSPITAL A     Geriatria  16.460938\n",
              "17  HOSPITAL A     Geriatria  16.502500\n",
              "18  HOSPITAL A     Geriatria  16.323125\n",
              "19  HOSPITAL A     Geriatria  16.482812\n",
              "20  HOSPITAL B  Ala Infantil  18.982500\n",
              "21  HOSPITAL B  Ala Infantil  19.237500\n",
              "22  HOSPITAL B  Ala Infantil  18.867500\n",
              "23  HOSPITAL B  Ala Infantil  18.400000\n",
              "24  HOSPITAL B  Ala Infantil  18.712500\n",
              "25  HOSPITAL B  Ala Infantil  18.995000\n",
              "26  HOSPITAL B  Ala Infantil  18.902500\n",
              "27  HOSPITAL B  Ala Infantil  18.550000\n",
              "28  HOSPITAL B  Ala Infantil  19.110000\n",
              "29  HOSPITAL B  Ala Infantil  19.210000\n",
              "30  HOSPITAL B     Geriatria  18.732500\n",
              "31  HOSPITAL B     Geriatria  18.680000\n",
              "32  HOSPITAL B     Geriatria  18.632500\n",
              "33  HOSPITAL B     Geriatria  18.830000\n",
              "34  HOSPITAL B     Geriatria  18.512500\n",
              "35  HOSPITAL B     Geriatria  18.687500\n",
              "36  HOSPITAL B     Geriatria  18.662500\n",
              "37  HOSPITAL B     Geriatria  18.735000\n",
              "38  HOSPITAL B     Geriatria  18.730000\n",
              "39  HOSPITAL B     Geriatria  18.865000"
            ]
          },
          "metadata": {
            "tags": []
          },
          "execution_count": 37
        }
      ]
    },
    {
      "cell_type": "code",
      "metadata": {
        "id": "5zUuewKWLp5Y"
      },
      "source": [
        "df_hist = pd.read_csv('EB.csv')"
      ],
      "execution_count": null,
      "outputs": []
    },
    {
      "cell_type": "code",
      "metadata": {
        "colab": {
          "base_uri": "https://localhost:8080/",
          "height": 417
        },
        "id": "-eyQivvnL9t3",
        "outputId": "d953652a-fdce-4297-c5a4-cbf39b5d0da8"
      },
      "source": [
        "df_hist"
      ],
      "execution_count": null,
      "outputs": [
        {
          "output_type": "execute_result",
          "data": {
            "text/html": [
              "<div>\n",
              "<style scoped>\n",
              "    .dataframe tbody tr th:only-of-type {\n",
              "        vertical-align: middle;\n",
              "    }\n",
              "\n",
              "    .dataframe tbody tr th {\n",
              "        vertical-align: top;\n",
              "    }\n",
              "\n",
              "    .dataframe thead th {\n",
              "        text-align: right;\n",
              "    }\n",
              "</style>\n",
              "<table border=\"1\" class=\"dataframe\">\n",
              "  <thead>\n",
              "    <tr style=\"text-align: right;\">\n",
              "      <th></th>\n",
              "      <th>Diametro</th>\n",
              "      <th>Ordens</th>\n",
              "      <th>Normal</th>\n",
              "      <th>Pos Skew</th>\n",
              "      <th>Neg Skew</th>\n",
              "      <th>Misterio</th>\n",
              "    </tr>\n",
              "  </thead>\n",
              "  <tbody>\n",
              "    <tr>\n",
              "      <th>0</th>\n",
              "      <td>1.25</td>\n",
              "      <td>2.0</td>\n",
              "      <td>76.296173</td>\n",
              "      <td>63.705994</td>\n",
              "      <td>77.100639</td>\n",
              "      <td>76.802063</td>\n",
              "    </tr>\n",
              "    <tr>\n",
              "      <th>1</th>\n",
              "      <td>1.45</td>\n",
              "      <td>3.0</td>\n",
              "      <td>80.738739</td>\n",
              "      <td>65.795341</td>\n",
              "      <td>70.563339</td>\n",
              "      <td>58.790665</td>\n",
              "    </tr>\n",
              "    <tr>\n",
              "      <th>2</th>\n",
              "      <td>1.23</td>\n",
              "      <td>2.0</td>\n",
              "      <td>82.474930</td>\n",
              "      <td>66.512024</td>\n",
              "      <td>73.386749</td>\n",
              "      <td>82.533379</td>\n",
              "    </tr>\n",
              "    <tr>\n",
              "      <th>3</th>\n",
              "      <td>1.22</td>\n",
              "      <td>1.0</td>\n",
              "      <td>87.897156</td>\n",
              "      <td>64.910660</td>\n",
              "      <td>64.891518</td>\n",
              "      <td>71.306450</td>\n",
              "    </tr>\n",
              "    <tr>\n",
              "      <th>4</th>\n",
              "      <td>1.45</td>\n",
              "      <td>0.0</td>\n",
              "      <td>73.646530</td>\n",
              "      <td>67.237747</td>\n",
              "      <td>76.984497</td>\n",
              "      <td>73.760651</td>\n",
              "    </tr>\n",
              "    <tr>\n",
              "      <th>...</th>\n",
              "      <td>...</td>\n",
              "      <td>...</td>\n",
              "      <td>...</td>\n",
              "      <td>...</td>\n",
              "      <td>...</td>\n",
              "      <td>...</td>\n",
              "    </tr>\n",
              "    <tr>\n",
              "      <th>495</th>\n",
              "      <td>NaN</td>\n",
              "      <td>NaN</td>\n",
              "      <td>73.377541</td>\n",
              "      <td>62.921150</td>\n",
              "      <td>72.298492</td>\n",
              "      <td>118.055374</td>\n",
              "    </tr>\n",
              "    <tr>\n",
              "      <th>496</th>\n",
              "      <td>NaN</td>\n",
              "      <td>NaN</td>\n",
              "      <td>54.317173</td>\n",
              "      <td>82.124977</td>\n",
              "      <td>76.631279</td>\n",
              "      <td>133.694824</td>\n",
              "    </tr>\n",
              "    <tr>\n",
              "      <th>497</th>\n",
              "      <td>NaN</td>\n",
              "      <td>NaN</td>\n",
              "      <td>64.908524</td>\n",
              "      <td>67.107224</td>\n",
              "      <td>71.980598</td>\n",
              "      <td>133.804810</td>\n",
              "    </tr>\n",
              "    <tr>\n",
              "      <th>498</th>\n",
              "      <td>NaN</td>\n",
              "      <td>NaN</td>\n",
              "      <td>74.645348</td>\n",
              "      <td>65.141914</td>\n",
              "      <td>76.855118</td>\n",
              "      <td>127.145119</td>\n",
              "    </tr>\n",
              "    <tr>\n",
              "      <th>499</th>\n",
              "      <td>NaN</td>\n",
              "      <td>NaN</td>\n",
              "      <td>60.578156</td>\n",
              "      <td>64.501343</td>\n",
              "      <td>70.845062</td>\n",
              "      <td>116.213173</td>\n",
              "    </tr>\n",
              "  </tbody>\n",
              "</table>\n",
              "<p>500 rows × 6 columns</p>\n",
              "</div>"
            ],
            "text/plain": [
              "     Diametro  Ordens     Normal   Pos Skew   Neg Skew    Misterio\n",
              "0        1.25     2.0  76.296173  63.705994  77.100639   76.802063\n",
              "1        1.45     3.0  80.738739  65.795341  70.563339   58.790665\n",
              "2        1.23     2.0  82.474930  66.512024  73.386749   82.533379\n",
              "3        1.22     1.0  87.897156  64.910660  64.891518   71.306450\n",
              "4        1.45     0.0  73.646530  67.237747  76.984497   73.760651\n",
              "..        ...     ...        ...        ...        ...         ...\n",
              "495       NaN     NaN  73.377541  62.921150  72.298492  118.055374\n",
              "496       NaN     NaN  54.317173  82.124977  76.631279  133.694824\n",
              "497       NaN     NaN  64.908524  67.107224  71.980598  133.804810\n",
              "498       NaN     NaN  74.645348  65.141914  76.855118  127.145119\n",
              "499       NaN     NaN  60.578156  64.501343  70.845062  116.213173\n",
              "\n",
              "[500 rows x 6 columns]"
            ]
          },
          "metadata": {
            "tags": []
          },
          "execution_count": 39
        }
      ]
    },
    {
      "cell_type": "code",
      "metadata": {
        "colab": {
          "base_uri": "https://localhost:8080/",
          "height": 430
        },
        "id": "Xs5vehHKL_Cz",
        "outputId": "28c9cc06-e173-4217-9e4f-667601e36e03"
      },
      "source": [
        "fig, axes = plt.subplots(1, 2, figsize=(15,6))\n",
        "sns.histplot(df_hist, x='Normal', color='blue', ax=axes[0])\n",
        "axes[0].set_title('Histograma', fontsize = '15')\n",
        "sns.boxplot(x='Hospital', y='Tempo', width=0.9, data=df_box, hue='ALA', ax=axes[1])\n",
        "axes[1].set_title('Boxplot', fontsize = '15')"
      ],
      "execution_count": null,
      "outputs": [
        {
          "output_type": "execute_result",
          "data": {
            "text/plain": [
              "Text(0.5, 1.0, 'Boxplot')"
            ]
          },
          "metadata": {
            "tags": []
          },
          "execution_count": 46
        },
        {
          "output_type": "display_data",
          "data": {
            "image/png": "[encoded data removed]",
            "text/plain": [
              "<Figure size 1080x432 with 2 Axes>"
            ]
          },
          "metadata": {
            "tags": []
          }
        }
      ]
    },
    {
      "cell_type": "code",
      "metadata": {
        "id": "6DXSo0fENREv"
      },
      "source": [
        ""
      ],
      "execution_count": null,
      "outputs": []
    }
  ]
}