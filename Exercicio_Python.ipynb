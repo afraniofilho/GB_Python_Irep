{
  "nbformat": 4,
  "nbformat_minor": 0,
  "metadata": {
    "colab": {
      "name": "Exercicio Python.ipynb",
      "provenance": [],
      "collapsed_sections": []
    },
    "kernelspec": {
      "name": "python3",
      "display_name": "Python 3"
    }
  },
  "cells": [
    {
      "cell_type": "code",
      "metadata": {
        "id": "-WQbGY_E81ga"
      },
      "source": [
        "import pandas as pd\n",
        "import matplotlib.pyplot as plt"
      ],
      "execution_count": null,
      "outputs": []
    },
    {
      "cell_type": "code",
      "metadata": {
        "id": "VRrpQCzA9fu0"
      },
      "source": [
        "df = pd.read_csv('Dados.csv')"
      ],
      "execution_count": null,
      "outputs": []
    },
    {
      "cell_type": "code",
      "metadata": {
        "id": "UAHjaeVW9uc3",
        "colab": {
          "base_uri": "https://localhost:8080/",
          "height": 297
        },
        "outputId": "0c460713-20c6-4b1c-be91-ac420a0e3ccc"
      },
      "source": [
        "df.head()"
      ],
      "execution_count": null,
      "outputs": [
        {
          "output_type": "execute_result",
          "data": {
            "text/html": [
              "<div>\n",
              "<style scoped>\n",
              "    .dataframe tbody tr th:only-of-type {\n",
              "        vertical-align: middle;\n",
              "    }\n",
              "\n",
              "    .dataframe tbody tr th {\n",
              "        vertical-align: top;\n",
              "    }\n",
              "\n",
              "    .dataframe thead th {\n",
              "        text-align: right;\n",
              "    }\n",
              "</style>\n",
              "<table border=\"1\" class=\"dataframe\">\n",
              "  <thead>\n",
              "    <tr style=\"text-align: right;\">\n",
              "      <th></th>\n",
              "      <th>CÓD - Name</th>\n",
              "      <th>Street</th>\n",
              "      <th>Country</th>\n",
              "      <th>City</th>\n",
              "      <th>DATE OF PURCHASE / SALE</th>\n",
              "      <th>PURCHASE VALUE</th>\n",
              "      <th>DUE DATE</th>\n",
              "      <th>INDEX</th>\n",
              "    </tr>\n",
              "  </thead>\n",
              "  <tbody>\n",
              "    <tr>\n",
              "      <th>0</th>\n",
              "      <td>844adica9 - ADICEIA CAMPOS DA FONSECA</td>\n",
              "      <td>AV. SIMEÃO DE FARIA</td>\n",
              "      <td>BRASIL</td>\n",
              "      <td>SÃO JOSÉ</td>\n",
              "      <td>1998-09-05</td>\n",
              "      <td>2</td>\n",
              "      <td>1998-10-31</td>\n",
              "      <td>0</td>\n",
              "    </tr>\n",
              "    <tr>\n",
              "      <th>1</th>\n",
              "      <td>542adiis9 - ADILSON ANICODEMOS DOS REIS</td>\n",
              "      <td>JOÀO DE OLIVEIRA, 20</td>\n",
              "      <td>BRASIL</td>\n",
              "      <td>JACAREÍ</td>\n",
              "      <td>1998-11-01</td>\n",
              "      <td>2</td>\n",
              "      <td>1998-12-30</td>\n",
              "      <td>1</td>\n",
              "    </tr>\n",
              "    <tr>\n",
              "      <th>2</th>\n",
              "      <td>869adiva9 - ADILSON FRANCISCO DA SILVA</td>\n",
              "      <td>LUIZ VICENTIM, 45</td>\n",
              "      <td>BRASIL</td>\n",
              "      <td>JACAREÍ</td>\n",
              "      <td>1998-08-03</td>\n",
              "      <td>2</td>\n",
              "      <td>1998-08-05</td>\n",
              "      <td>2</td>\n",
              "    </tr>\n",
              "    <tr>\n",
              "      <th>3</th>\n",
              "      <td>141adias9 - ADILSON NATAL VILAS BOAS</td>\n",
              "      <td>RUA TORMALINO, 95</td>\n",
              "      <td>BRASIL</td>\n",
              "      <td>JACAREÍ</td>\n",
              "      <td>1998-09-02</td>\n",
              "      <td>2</td>\n",
              "      <td>1998-09-29</td>\n",
              "      <td>3</td>\n",
              "    </tr>\n",
              "    <tr>\n",
              "      <th>4</th>\n",
              "      <td>124adiso9 - ADILSON SANTANA IDELFONSO</td>\n",
              "      <td>RUA GUARARÁPES, 51</td>\n",
              "      <td>BRASIL</td>\n",
              "      <td>JACAREÍ</td>\n",
              "      <td>1998-07-23</td>\n",
              "      <td>2</td>\n",
              "      <td>1998-08-26</td>\n",
              "      <td>4</td>\n",
              "    </tr>\n",
              "  </tbody>\n",
              "</table>\n",
              "</div>"
            ],
            "text/plain": [
              "                                CÓD - Name  ... INDEX\n",
              "0    844adica9 - ADICEIA CAMPOS DA FONSECA  ...     0\n",
              "1  542adiis9 - ADILSON ANICODEMOS DOS REIS  ...     1\n",
              "2   869adiva9 - ADILSON FRANCISCO DA SILVA  ...     2\n",
              "3     141adias9 - ADILSON NATAL VILAS BOAS  ...     3\n",
              "4    124adiso9 - ADILSON SANTANA IDELFONSO  ...     4\n",
              "\n",
              "[5 rows x 8 columns]"
            ]
          },
          "metadata": {
            "tags": []
          },
          "execution_count": 3
        }
      ]
    },
    {
      "cell_type": "code",
      "metadata": {
        "id": "xSeJHmC69zWk"
      },
      "source": [
        "df_ct = df.pivot_table(values='PURCHASE VALUE', index=['Country'], aggfunc=('sum', 'count', 'mean'))"
      ],
      "execution_count": null,
      "outputs": []
    },
    {
      "cell_type": "code",
      "metadata": {
        "id": "O90IbVEk-6jv",
        "colab": {
          "base_uri": "https://localhost:8080/",
          "height": 167
        },
        "outputId": "9982374b-306c-4d63-9d7f-608e20ad7a9b"
      },
      "source": [
        "df_ct"
      ],
      "execution_count": null,
      "outputs": [
        {
          "output_type": "execute_result",
          "data": {
            "text/html": [
              "<div>\n",
              "<style scoped>\n",
              "    .dataframe tbody tr th:only-of-type {\n",
              "        vertical-align: middle;\n",
              "    }\n",
              "\n",
              "    .dataframe tbody tr th {\n",
              "        vertical-align: top;\n",
              "    }\n",
              "\n",
              "    .dataframe thead th {\n",
              "        text-align: right;\n",
              "    }\n",
              "</style>\n",
              "<table border=\"1\" class=\"dataframe\">\n",
              "  <thead>\n",
              "    <tr style=\"text-align: right;\">\n",
              "      <th></th>\n",
              "      <th>count</th>\n",
              "      <th>mean</th>\n",
              "      <th>sum</th>\n",
              "    </tr>\n",
              "    <tr>\n",
              "      <th>Country</th>\n",
              "      <th></th>\n",
              "      <th></th>\n",
              "      <th></th>\n",
              "    </tr>\n",
              "  </thead>\n",
              "  <tbody>\n",
              "    <tr>\n",
              "      <th>BRASIL</th>\n",
              "      <td>933.0</td>\n",
              "      <td>32.678457</td>\n",
              "      <td>30489.0</td>\n",
              "    </tr>\n",
              "    <tr>\n",
              "      <th>MÉXICO</th>\n",
              "      <td>34.0</td>\n",
              "      <td>55.000000</td>\n",
              "      <td>1870.0</td>\n",
              "    </tr>\n",
              "    <tr>\n",
              "      <th>SERVIA</th>\n",
              "      <td>1144.0</td>\n",
              "      <td>448.144231</td>\n",
              "      <td>512677.0</td>\n",
              "    </tr>\n",
              "  </tbody>\n",
              "</table>\n",
              "</div>"
            ],
            "text/plain": [
              "          count        mean       sum\n",
              "Country                              \n",
              "BRASIL    933.0   32.678457   30489.0\n",
              "MÉXICO     34.0   55.000000    1870.0\n",
              "SERVIA   1144.0  448.144231  512677.0"
            ]
          },
          "metadata": {
            "tags": []
          },
          "execution_count": 5
        }
      ]
    },
    {
      "cell_type": "code",
      "metadata": {
        "id": "gFQfTR7O_BUO",
        "colab": {
          "base_uri": "https://localhost:8080/",
          "height": 407
        },
        "outputId": "5ed76e9f-eb9d-4f5a-c215-f1adc05017c3"
      },
      "source": [
        "plt.pie(x=\"sum\", labels=(\"Brasil\", \"México\", \"Servia\"), autopct=\"%.1f%%\",\r\n",
        "        data= df_ct)"
      ],
      "execution_count": null,
      "outputs": [
        {
          "output_type": "execute_result",
          "data": {
            "text/plain": [
              "([<matplotlib.patches.Wedge at 0x7fc14b3f8e90>,\n",
              "  <matplotlib.patches.Wedge at 0x7fc14b406690>,\n",
              "  <matplotlib.patches.Wedge at 0x7fc14b406f10>],\n",
              " [Text(1.0830573864594775, 0.19231925965842916, 'Brasil'),\n",
              "  Text(1.0286095001694215, 0.389823673166745, 'México'),\n",
              "  Text(-1.08092156597978, -0.2039817839901898, 'Servia')],\n",
              " [Text(0.5907585744324422, 0.10490141435914317, '5.6%'),\n",
              "  Text(0.5610597273651389, 0.21263109445458814, '0.3%'),\n",
              "  Text(-0.5895935814435163, -0.11126279126737623, '94.1%')])"
            ]
          },
          "metadata": {
            "tags": []
          },
          "execution_count": 17
        },
        {
          "output_type": "display_data",
          "data": {
            "image/png": "[encoded data removed]",
            "text/plain": [
              "<Figure size 432x288 with 1 Axes>"
            ]
          },
          "metadata": {
            "tags": []
          }
        }
      ]
    },
    {
      "cell_type": "code",
      "metadata": {
        "colab": {
          "base_uri": "https://localhost:8080/",
          "height": 354
        },
        "id": "-lWkhMJ2yMfB",
        "outputId": "52d54fc0-b08e-47a7-b70e-5b29b43777b9"
      },
      "source": [
        "plt.pie(x=\"sum\", labels=(\"Brasil\", \"México\", \"Servia\"), explode = [1,1,0],\r\n",
        "        data= df_ct)"
      ],
      "execution_count": null,
      "outputs": [
        {
          "output_type": "execute_result",
          "data": {
            "text/plain": [
              "([<matplotlib.patches.Wedge at 0x7fc15c1d2850>,\n",
              "  <matplotlib.patches.Wedge at 0x7fc15c1d2bd0>,\n",
              "  <matplotlib.patches.Wedge at 0x7fc15c15d290>],\n",
              " [Text(2.0676550105135476, 0.3671549502570011, 'Brasil'),\n",
              "  Text(1.9637090457779864, 0.7442088305910586, 'México'),\n",
              "  Text(-1.08092156597978, -0.2039817839901898, 'Servia')])"
            ]
          },
          "metadata": {
            "tags": []
          },
          "execution_count": 7
        },
        {
          "output_type": "display_data",
          "data": {
            "image/png": "[encoded data removed]",
            "text/plain": [
              "<Figure size 432x288 with 1 Axes>"
            ]
          },
          "metadata": {
            "tags": []
          }
        }
      ]
    },
    {
      "cell_type": "code",
      "metadata": {
        "colab": {
          "base_uri": "https://localhost:8080/",
          "height": 354
        },
        "id": "sipJIb5Bxmbo",
        "outputId": "44f727d6-eb7c-4e38-89e9-a12b88ad707f"
      },
      "source": [
        "plt.pie(x=\"sum\", labels=(\"Brasil\", \"México\", \"Servia\"), explode = [1,1,0], \r\n",
        "        colors=[\"green\", \"red\", \"blue\"],data= df_ct)"
      ],
      "execution_count": null,
      "outputs": [
        {
          "output_type": "execute_result",
          "data": {
            "text/plain": [
              "([<matplotlib.patches.Wedge at 0x7fc15c124650>,\n",
              "  <matplotlib.patches.Wedge at 0x7fc15c1249d0>,\n",
              "  <matplotlib.patches.Wedge at 0x7fc15c131090>],\n",
              " [Text(2.0676550105135476, 0.3671549502570011, 'Brasil'),\n",
              "  Text(1.9637090457779864, 0.7442088305910586, 'México'),\n",
              "  Text(-1.08092156597978, -0.2039817839901898, 'Servia')])"
            ]
          },
          "metadata": {
            "tags": []
          },
          "execution_count": 8
        },
        {
          "output_type": "display_data",
          "data": {
            "image/png": "[encoded data removed]",
            "text/plain": [
              "<Figure size 432x288 with 1 Axes>"
            ]
          },
          "metadata": {
            "tags": []
          }
        }
      ]
    },
    {
      "cell_type": "code",
      "metadata": {
        "id": "yXiFtV9H_eZl",
        "colab": {
          "base_uri": "https://localhost:8080/",
          "height": 286
        },
        "outputId": "d8974c9f-ea34-4fbc-ab34-d93c3280e0c0"
      },
      "source": [
        "plt.bar(x = [\"Brasil\", \"México\",\"Servia\"], height = \"count\",\r\n",
        "        data = df_ct)"
      ],
      "execution_count": null,
      "outputs": [
        {
          "output_type": "execute_result",
          "data": {
            "text/plain": [
              "<BarContainer object of 3 artists>"
            ]
          },
          "metadata": {
            "tags": []
          },
          "execution_count": 9
        },
        {
          "output_type": "display_data",
          "data": {
            "image/png": "[encoded data removed]",
            "text/plain": [
              "<Figure size 432x288 with 1 Axes>"
            ]
          },
          "metadata": {
            "tags": [],
            "needs_background": "light"
          }
        }
      ]
    },
    {
      "cell_type": "code",
      "metadata": {
        "id": "h1L5z6J9AsWU"
      },
      "source": [
        "df_ct_ordena = df_ct.sort_values(by='count')"
      ],
      "execution_count": null,
      "outputs": []
    },
    {
      "cell_type": "code",
      "metadata": {
        "colab": {
          "base_uri": "https://localhost:8080/",
          "height": 286
        },
        "id": "J_5zS7xPz5j3",
        "outputId": "ce041a41-a701-4e4f-bed4-8b3fd0a8dde9"
      },
      "source": [
        "plt.bar(x = [\"Brasil\", \"México\",\"Servia\"], height = \"count\",\r\n",
        "        data = df_ct_ordena)"
      ],
      "execution_count": null,
      "outputs": [
        {
          "output_type": "execute_result",
          "data": {
            "text/plain": [
              "<BarContainer object of 3 artists>"
            ]
          },
          "metadata": {
            "tags": []
          },
          "execution_count": 11
        },
        {
          "output_type": "display_data",
          "data": {
            "image/png": "[encoded data removed]",
            "text/plain": [
              "<Figure size 432x288 with 1 Axes>"
            ]
          },
          "metadata": {
            "tags": [],
            "needs_background": "light"
          }
        }
      ]
    },
    {
      "cell_type": "code",
      "metadata": {
        "colab": {
          "base_uri": "https://localhost:8080/",
          "height": 286
        },
        "id": "ekMmER730NUY",
        "outputId": "88c1288c-4575-4923-be59-1863cb02c03c"
      },
      "source": [
        "plt.bar(x = [\"Brasil\", \"México\",\"Servia\"], height = \"count\", \r\n",
        "        color=[\"green\", \"red\", \"blue\"],\r\n",
        "        data = df_ct_ordena)"
      ],
      "execution_count": null,
      "outputs": [
        {
          "output_type": "execute_result",
          "data": {
            "text/plain": [
              "<BarContainer object of 3 artists>"
            ]
          },
          "metadata": {
            "tags": []
          },
          "execution_count": 12
        },
        {
          "output_type": "display_data",
          "data": {
            "image/png": "[encoded data removed]",
            "text/plain": [
              "<Figure size 432x288 with 1 Axes>"
            ]
          },
          "metadata": {
            "tags": [],
            "needs_background": "light"
          }
        }
      ]
    },
    {
      "cell_type": "code",
      "metadata": {
        "id": "ks6PUik_2Ury"
      },
      "source": [
        "import seaborn as sns"
      ],
      "execution_count": null,
      "outputs": []
    },
    {
      "cell_type": "code",
      "metadata": {
        "id": "3RnsA2hJFT6h"
      },
      "source": [
        ""
      ],
      "execution_count": null,
      "outputs": []
    }
  ]
}