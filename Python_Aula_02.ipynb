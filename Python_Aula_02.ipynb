{
  "nbformat": 4,
  "nbformat_minor": 0,
  "metadata": {
    "colab": {
      "name": "Python - Aula 02.ipynb",
      "provenance": [],
      "collapsed_sections": [],
      "authorship_tag": "ABX9TyOopm6EBZEubX3ulktiZBxY",
      "include_colab_link": true
    },
    "kernelspec": {
      "name": "python3",
      "display_name": "Python 3"
    },
    "language_info": {
      "name": "python"
    }
  },
  "cells": [
    {
      "cell_type": "markdown",
      "metadata": {
        "id": "view-in-github",
        "colab_type": "text"
      },
      "source": [
        "<a href=\"https://colab.research.google.com/github/afraniofilho/GB_Python_Irep/blob/main/Python_Aula_02.ipynb\" target=\"_parent\"><img src=\"https://colab.research.google.com/assets/colab-badge.svg\" alt=\"Open In Colab\"/></a>"
      ]
    },
    {
      "cell_type": "code",
      "metadata": {
        "id": "X1RzLyc7jTh5"
      },
      "source": [
        "import statistics as st"
      ],
      "execution_count": 33,
      "outputs": []
    },
    {
      "cell_type": "code",
      "metadata": {
        "id": "nkOvwpWoj8yi"
      },
      "source": [
        "dados = [1.25, 1.45, 1.23, 1.22, 1.45, 1.68, 1.56, 1.45, 1.21, 1.45, 1.38, 1.47]"
      ],
      "execution_count": 34,
      "outputs": []
    },
    {
      "cell_type": "code",
      "metadata": {
        "colab": {
          "base_uri": "https://localhost:8080/"
        },
        "id": "8yCU0I12lPr4",
        "outputId": "ef85162c-7704-46e8-935d-791483dd96ca"
      },
      "source": [
        "dados"
      ],
      "execution_count": 35,
      "outputs": [
        {
          "output_type": "execute_result",
          "data": {
            "text/plain": [
              "[1.25, 1.45, 1.23, 1.22, 1.45, 1.68, 1.56, 1.45, 1.21, 1.45, 1.38, 1.47]"
            ]
          },
          "metadata": {},
          "execution_count": 35
        }
      ]
    },
    {
      "cell_type": "code",
      "metadata": {
        "colab": {
          "base_uri": "https://localhost:8080/"
        },
        "id": "Pm-qaO_ClS-2",
        "outputId": "17c623dd-7834-4c54-b014-3d0bd757693a"
      },
      "source": [
        "type(dados)"
      ],
      "execution_count": 36,
      "outputs": [
        {
          "output_type": "execute_result",
          "data": {
            "text/plain": [
              "list"
            ]
          },
          "metadata": {},
          "execution_count": 36
        }
      ]
    },
    {
      "cell_type": "code",
      "metadata": {
        "id": "ZsWOCXqcmgZV"
      },
      "source": [
        "n = 28"
      ],
      "execution_count": 37,
      "outputs": []
    },
    {
      "cell_type": "code",
      "metadata": {
        "colab": {
          "base_uri": "https://localhost:8080/"
        },
        "id": "tLA52C4cmkBN",
        "outputId": "9b2725ed-9536-4de9-f7ba-fbe51d9245fb"
      },
      "source": [
        "type(n)"
      ],
      "execution_count": 38,
      "outputs": [
        {
          "output_type": "execute_result",
          "data": {
            "text/plain": [
              "int"
            ]
          },
          "metadata": {},
          "execution_count": 38
        }
      ]
    },
    {
      "cell_type": "code",
      "metadata": {
        "colab": {
          "base_uri": "https://localhost:8080/"
        },
        "id": "wKJN9JwVlVlD",
        "outputId": "04834983-0f80-4f83-f669-2996e17c0b04"
      },
      "source": [
        "st.mean(dados)"
      ],
      "execution_count": 39,
      "outputs": [
        {
          "output_type": "execute_result",
          "data": {
            "text/plain": [
              "1.4"
            ]
          },
          "metadata": {},
          "execution_count": 39
        }
      ]
    },
    {
      "cell_type": "code",
      "metadata": {
        "colab": {
          "base_uri": "https://localhost:8080/"
        },
        "id": "qkUV4UzKmtKL",
        "outputId": "b1498023-a9c0-40e2-f53c-20d1ab7643bb"
      },
      "source": [
        "st.mean([1,2,3,4,5,7])"
      ],
      "execution_count": 40,
      "outputs": [
        {
          "output_type": "execute_result",
          "data": {
            "text/plain": [
              "3.6666666666666665"
            ]
          },
          "metadata": {},
          "execution_count": 40
        }
      ]
    },
    {
      "cell_type": "code",
      "metadata": {
        "id": "TalCY2ism8In"
      },
      "source": [
        "import pandas as pd"
      ],
      "execution_count": 41,
      "outputs": []
    },
    {
      "cell_type": "code",
      "metadata": {
        "id": "Gizk3JrGuGEh"
      },
      "source": [
        "df = pd.read_csv('EB.csv')"
      ],
      "execution_count": 42,
      "outputs": []
    },
    {
      "cell_type": "code",
      "metadata": {
        "colab": {
          "base_uri": "https://localhost:8080/",
          "height": 423
        },
        "id": "DX2czQ35uudZ",
        "outputId": "3f4ceb09-6750-405b-fb14-971cad66c7d3"
      },
      "source": [
        "df"
      ],
      "execution_count": 43,
      "outputs": [
        {
          "output_type": "execute_result",
          "data": {
            "text/html": [
              "<div>\n",
              "<style scoped>\n",
              "    .dataframe tbody tr th:only-of-type {\n",
              "        vertical-align: middle;\n",
              "    }\n",
              "\n",
              "    .dataframe tbody tr th {\n",
              "        vertical-align: top;\n",
              "    }\n",
              "\n",
              "    .dataframe thead th {\n",
              "        text-align: right;\n",
              "    }\n",
              "</style>\n",
              "<table border=\"1\" class=\"dataframe\">\n",
              "  <thead>\n",
              "    <tr style=\"text-align: right;\">\n",
              "      <th></th>\n",
              "      <th>Diametro</th>\n",
              "      <th>Ordens</th>\n",
              "      <th>Normal</th>\n",
              "      <th>Pos Skew</th>\n",
              "      <th>Neg Skew</th>\n",
              "      <th>Misterio</th>\n",
              "    </tr>\n",
              "  </thead>\n",
              "  <tbody>\n",
              "    <tr>\n",
              "      <th>0</th>\n",
              "      <td>1.25</td>\n",
              "      <td>2.0</td>\n",
              "      <td>76.296173</td>\n",
              "      <td>63.705994</td>\n",
              "      <td>77.100639</td>\n",
              "      <td>76.802063</td>\n",
              "    </tr>\n",
              "    <tr>\n",
              "      <th>1</th>\n",
              "      <td>1.45</td>\n",
              "      <td>3.0</td>\n",
              "      <td>80.738739</td>\n",
              "      <td>65.795341</td>\n",
              "      <td>70.563339</td>\n",
              "      <td>58.790665</td>\n",
              "    </tr>\n",
              "    <tr>\n",
              "      <th>2</th>\n",
              "      <td>1.23</td>\n",
              "      <td>2.0</td>\n",
              "      <td>82.474930</td>\n",
              "      <td>66.512024</td>\n",
              "      <td>73.386749</td>\n",
              "      <td>82.533379</td>\n",
              "    </tr>\n",
              "    <tr>\n",
              "      <th>3</th>\n",
              "      <td>1.22</td>\n",
              "      <td>1.0</td>\n",
              "      <td>87.897156</td>\n",
              "      <td>64.910660</td>\n",
              "      <td>64.891518</td>\n",
              "      <td>71.306450</td>\n",
              "    </tr>\n",
              "    <tr>\n",
              "      <th>4</th>\n",
              "      <td>1.45</td>\n",
              "      <td>0.0</td>\n",
              "      <td>73.646530</td>\n",
              "      <td>67.237747</td>\n",
              "      <td>76.984497</td>\n",
              "      <td>73.760651</td>\n",
              "    </tr>\n",
              "    <tr>\n",
              "      <th>...</th>\n",
              "      <td>...</td>\n",
              "      <td>...</td>\n",
              "      <td>...</td>\n",
              "      <td>...</td>\n",
              "      <td>...</td>\n",
              "      <td>...</td>\n",
              "    </tr>\n",
              "    <tr>\n",
              "      <th>495</th>\n",
              "      <td>NaN</td>\n",
              "      <td>NaN</td>\n",
              "      <td>73.377541</td>\n",
              "      <td>62.921150</td>\n",
              "      <td>72.298492</td>\n",
              "      <td>118.055374</td>\n",
              "    </tr>\n",
              "    <tr>\n",
              "      <th>496</th>\n",
              "      <td>NaN</td>\n",
              "      <td>NaN</td>\n",
              "      <td>54.317173</td>\n",
              "      <td>82.124977</td>\n",
              "      <td>76.631279</td>\n",
              "      <td>133.694824</td>\n",
              "    </tr>\n",
              "    <tr>\n",
              "      <th>497</th>\n",
              "      <td>NaN</td>\n",
              "      <td>NaN</td>\n",
              "      <td>64.908524</td>\n",
              "      <td>67.107224</td>\n",
              "      <td>71.980598</td>\n",
              "      <td>133.804810</td>\n",
              "    </tr>\n",
              "    <tr>\n",
              "      <th>498</th>\n",
              "      <td>NaN</td>\n",
              "      <td>NaN</td>\n",
              "      <td>74.645348</td>\n",
              "      <td>65.141914</td>\n",
              "      <td>76.855118</td>\n",
              "      <td>127.145119</td>\n",
              "    </tr>\n",
              "    <tr>\n",
              "      <th>499</th>\n",
              "      <td>NaN</td>\n",
              "      <td>NaN</td>\n",
              "      <td>60.578156</td>\n",
              "      <td>64.501343</td>\n",
              "      <td>70.845062</td>\n",
              "      <td>116.213173</td>\n",
              "    </tr>\n",
              "  </tbody>\n",
              "</table>\n",
              "<p>500 rows × 6 columns</p>\n",
              "</div>"
            ],
            "text/plain": [
              "     Diametro  Ordens     Normal   Pos Skew   Neg Skew    Misterio\n",
              "0        1.25     2.0  76.296173  63.705994  77.100639   76.802063\n",
              "1        1.45     3.0  80.738739  65.795341  70.563339   58.790665\n",
              "2        1.23     2.0  82.474930  66.512024  73.386749   82.533379\n",
              "3        1.22     1.0  87.897156  64.910660  64.891518   71.306450\n",
              "4        1.45     0.0  73.646530  67.237747  76.984497   73.760651\n",
              "..        ...     ...        ...        ...        ...         ...\n",
              "495       NaN     NaN  73.377541  62.921150  72.298492  118.055374\n",
              "496       NaN     NaN  54.317173  82.124977  76.631279  133.694824\n",
              "497       NaN     NaN  64.908524  67.107224  71.980598  133.804810\n",
              "498       NaN     NaN  74.645348  65.141914  76.855118  127.145119\n",
              "499       NaN     NaN  60.578156  64.501343  70.845062  116.213173\n",
              "\n",
              "[500 rows x 6 columns]"
            ]
          },
          "metadata": {},
          "execution_count": 43
        }
      ]
    },
    {
      "cell_type": "code",
      "metadata": {
        "colab": {
          "base_uri": "https://localhost:8080/"
        },
        "id": "huNfBBBUu2nj",
        "outputId": "2fe0f769-9361-4d23-b991-4954ab8987f6"
      },
      "source": [
        "type(df)"
      ],
      "execution_count": 44,
      "outputs": [
        {
          "output_type": "execute_result",
          "data": {
            "text/plain": [
              "pandas.core.frame.DataFrame"
            ]
          },
          "metadata": {},
          "execution_count": 44
        }
      ]
    },
    {
      "cell_type": "code",
      "metadata": {
        "id": "9Fql271EvQSw"
      },
      "source": [
        "import seaborn as sns"
      ],
      "execution_count": 45,
      "outputs": []
    },
    {
      "cell_type": "code",
      "metadata": {
        "colab": {
          "base_uri": "https://localhost:8080/",
          "height": 206
        },
        "id": "Z1CcI-46y2EG",
        "outputId": "5a08e868-5c11-43a9-ee64-e91ebe9fd2e8"
      },
      "source": [
        "df.head()"
      ],
      "execution_count": 46,
      "outputs": [
        {
          "output_type": "execute_result",
          "data": {
            "text/html": [
              "<div>\n",
              "<style scoped>\n",
              "    .dataframe tbody tr th:only-of-type {\n",
              "        vertical-align: middle;\n",
              "    }\n",
              "\n",
              "    .dataframe tbody tr th {\n",
              "        vertical-align: top;\n",
              "    }\n",
              "\n",
              "    .dataframe thead th {\n",
              "        text-align: right;\n",
              "    }\n",
              "</style>\n",
              "<table border=\"1\" class=\"dataframe\">\n",
              "  <thead>\n",
              "    <tr style=\"text-align: right;\">\n",
              "      <th></th>\n",
              "      <th>Diametro</th>\n",
              "      <th>Ordens</th>\n",
              "      <th>Normal</th>\n",
              "      <th>Pos Skew</th>\n",
              "      <th>Neg Skew</th>\n",
              "      <th>Misterio</th>\n",
              "    </tr>\n",
              "  </thead>\n",
              "  <tbody>\n",
              "    <tr>\n",
              "      <th>0</th>\n",
              "      <td>1.25</td>\n",
              "      <td>2.0</td>\n",
              "      <td>76.296173</td>\n",
              "      <td>63.705994</td>\n",
              "      <td>77.100639</td>\n",
              "      <td>76.802063</td>\n",
              "    </tr>\n",
              "    <tr>\n",
              "      <th>1</th>\n",
              "      <td>1.45</td>\n",
              "      <td>3.0</td>\n",
              "      <td>80.738739</td>\n",
              "      <td>65.795341</td>\n",
              "      <td>70.563339</td>\n",
              "      <td>58.790665</td>\n",
              "    </tr>\n",
              "    <tr>\n",
              "      <th>2</th>\n",
              "      <td>1.23</td>\n",
              "      <td>2.0</td>\n",
              "      <td>82.474930</td>\n",
              "      <td>66.512024</td>\n",
              "      <td>73.386749</td>\n",
              "      <td>82.533379</td>\n",
              "    </tr>\n",
              "    <tr>\n",
              "      <th>3</th>\n",
              "      <td>1.22</td>\n",
              "      <td>1.0</td>\n",
              "      <td>87.897156</td>\n",
              "      <td>64.910660</td>\n",
              "      <td>64.891518</td>\n",
              "      <td>71.306450</td>\n",
              "    </tr>\n",
              "    <tr>\n",
              "      <th>4</th>\n",
              "      <td>1.45</td>\n",
              "      <td>0.0</td>\n",
              "      <td>73.646530</td>\n",
              "      <td>67.237747</td>\n",
              "      <td>76.984497</td>\n",
              "      <td>73.760651</td>\n",
              "    </tr>\n",
              "  </tbody>\n",
              "</table>\n",
              "</div>"
            ],
            "text/plain": [
              "   Diametro  Ordens     Normal   Pos Skew   Neg Skew   Misterio\n",
              "0      1.25     2.0  76.296173  63.705994  77.100639  76.802063\n",
              "1      1.45     3.0  80.738739  65.795341  70.563339  58.790665\n",
              "2      1.23     2.0  82.474930  66.512024  73.386749  82.533379\n",
              "3      1.22     1.0  87.897156  64.910660  64.891518  71.306450\n",
              "4      1.45     0.0  73.646530  67.237747  76.984497  73.760651"
            ]
          },
          "metadata": {},
          "execution_count": 46
        }
      ]
    },
    {
      "cell_type": "code",
      "metadata": {
        "colab": {
          "base_uri": "https://localhost:8080/",
          "height": 297
        },
        "id": "9lDrUeq_y8cg",
        "outputId": "41a9900d-f71f-4156-d503-971a4b26694c"
      },
      "source": [
        "sns.color_palette(\"Set2\", 8)\n",
        "sns.histplot(df, x='Normal', color='blue')"
      ],
      "execution_count": 47,
      "outputs": [
        {
          "output_type": "execute_result",
          "data": {
            "text/plain": [
              "<matplotlib.axes._subplots.AxesSubplot at 0x7fca533e91d0>"
            ]
          },
          "metadata": {},
          "execution_count": 47
        },
        {
          "output_type": "display_data",
          "data": {
            "image/png": "[encoded data removed]",
            "text/plain": [
              "<Figure size 432x288 with 1 Axes>"
            ]
          },
          "metadata": {
            "needs_background": "light"
          }
        }
      ]
    },
    {
      "cell_type": "code",
      "metadata": {
        "colab": {
          "base_uri": "https://localhost:8080/",
          "height": 297
        },
        "id": "hS-7IkE6zxSG",
        "outputId": "28c215de-3805-461b-ffbd-caa54a9ffae5"
      },
      "source": [
        "sns.histplot(df, x='Misterio')"
      ],
      "execution_count": 48,
      "outputs": [
        {
          "output_type": "execute_result",
          "data": {
            "text/plain": [
              "<matplotlib.axes._subplots.AxesSubplot at 0x7fca5339ba90>"
            ]
          },
          "metadata": {},
          "execution_count": 48
        },
        {
          "output_type": "display_data",
          "data": {
            "image/png": "[encoded data removed]",
            "text/plain": [
              "<Figure size 432x288 with 1 Axes>"
            ]
          },
          "metadata": {
            "needs_background": "light"
          }
        }
      ]
    },
    {
      "cell_type": "code",
      "metadata": {
        "id": "ManLJ9dC1pzj",
        "colab": {
          "base_uri": "https://localhost:8080/",
          "height": 297
        },
        "outputId": "ae0d8965-4b4f-4619-e004-ece9c48bf9ab"
      },
      "source": [
        "sns.histplot(df, x=\"Normal\")"
      ],
      "execution_count": 49,
      "outputs": [
        {
          "output_type": "execute_result",
          "data": {
            "text/plain": [
              "<matplotlib.axes._subplots.AxesSubplot at 0x7fca5533ba10>"
            ]
          },
          "metadata": {},
          "execution_count": 49
        },
        {
          "output_type": "display_data",
          "data": {
            "image/png": "[encoded data removed]",
            "text/plain": [
              "<Figure size 432x288 with 1 Axes>"
            ]
          },
          "metadata": {
            "needs_background": "light"
          }
        }
      ]
    },
    {
      "cell_type": "code",
      "metadata": {
        "colab": {
          "base_uri": "https://localhost:8080/",
          "height": 423
        },
        "id": "ppMuepRN2zpj",
        "outputId": "0dfb1db1-3b40-45b6-e6ca-031a9d1e731a"
      },
      "source": [
        "df"
      ],
      "execution_count": 50,
      "outputs": [
        {
          "output_type": "execute_result",
          "data": {
            "text/html": [
              "<div>\n",
              "<style scoped>\n",
              "    .dataframe tbody tr th:only-of-type {\n",
              "        vertical-align: middle;\n",
              "    }\n",
              "\n",
              "    .dataframe tbody tr th {\n",
              "        vertical-align: top;\n",
              "    }\n",
              "\n",
              "    .dataframe thead th {\n",
              "        text-align: right;\n",
              "    }\n",
              "</style>\n",
              "<table border=\"1\" class=\"dataframe\">\n",
              "  <thead>\n",
              "    <tr style=\"text-align: right;\">\n",
              "      <th></th>\n",
              "      <th>Diametro</th>\n",
              "      <th>Ordens</th>\n",
              "      <th>Normal</th>\n",
              "      <th>Pos Skew</th>\n",
              "      <th>Neg Skew</th>\n",
              "      <th>Misterio</th>\n",
              "    </tr>\n",
              "  </thead>\n",
              "  <tbody>\n",
              "    <tr>\n",
              "      <th>0</th>\n",
              "      <td>1.25</td>\n",
              "      <td>2.0</td>\n",
              "      <td>76.296173</td>\n",
              "      <td>63.705994</td>\n",
              "      <td>77.100639</td>\n",
              "      <td>76.802063</td>\n",
              "    </tr>\n",
              "    <tr>\n",
              "      <th>1</th>\n",
              "      <td>1.45</td>\n",
              "      <td>3.0</td>\n",
              "      <td>80.738739</td>\n",
              "      <td>65.795341</td>\n",
              "      <td>70.563339</td>\n",
              "      <td>58.790665</td>\n",
              "    </tr>\n",
              "    <tr>\n",
              "      <th>2</th>\n",
              "      <td>1.23</td>\n",
              "      <td>2.0</td>\n",
              "      <td>82.474930</td>\n",
              "      <td>66.512024</td>\n",
              "      <td>73.386749</td>\n",
              "      <td>82.533379</td>\n",
              "    </tr>\n",
              "    <tr>\n",
              "      <th>3</th>\n",
              "      <td>1.22</td>\n",
              "      <td>1.0</td>\n",
              "      <td>87.897156</td>\n",
              "      <td>64.910660</td>\n",
              "      <td>64.891518</td>\n",
              "      <td>71.306450</td>\n",
              "    </tr>\n",
              "    <tr>\n",
              "      <th>4</th>\n",
              "      <td>1.45</td>\n",
              "      <td>0.0</td>\n",
              "      <td>73.646530</td>\n",
              "      <td>67.237747</td>\n",
              "      <td>76.984497</td>\n",
              "      <td>73.760651</td>\n",
              "    </tr>\n",
              "    <tr>\n",
              "      <th>...</th>\n",
              "      <td>...</td>\n",
              "      <td>...</td>\n",
              "      <td>...</td>\n",
              "      <td>...</td>\n",
              "      <td>...</td>\n",
              "      <td>...</td>\n",
              "    </tr>\n",
              "    <tr>\n",
              "      <th>495</th>\n",
              "      <td>NaN</td>\n",
              "      <td>NaN</td>\n",
              "      <td>73.377541</td>\n",
              "      <td>62.921150</td>\n",
              "      <td>72.298492</td>\n",
              "      <td>118.055374</td>\n",
              "    </tr>\n",
              "    <tr>\n",
              "      <th>496</th>\n",
              "      <td>NaN</td>\n",
              "      <td>NaN</td>\n",
              "      <td>54.317173</td>\n",
              "      <td>82.124977</td>\n",
              "      <td>76.631279</td>\n",
              "      <td>133.694824</td>\n",
              "    </tr>\n",
              "    <tr>\n",
              "      <th>497</th>\n",
              "      <td>NaN</td>\n",
              "      <td>NaN</td>\n",
              "      <td>64.908524</td>\n",
              "      <td>67.107224</td>\n",
              "      <td>71.980598</td>\n",
              "      <td>133.804810</td>\n",
              "    </tr>\n",
              "    <tr>\n",
              "      <th>498</th>\n",
              "      <td>NaN</td>\n",
              "      <td>NaN</td>\n",
              "      <td>74.645348</td>\n",
              "      <td>65.141914</td>\n",
              "      <td>76.855118</td>\n",
              "      <td>127.145119</td>\n",
              "    </tr>\n",
              "    <tr>\n",
              "      <th>499</th>\n",
              "      <td>NaN</td>\n",
              "      <td>NaN</td>\n",
              "      <td>60.578156</td>\n",
              "      <td>64.501343</td>\n",
              "      <td>70.845062</td>\n",
              "      <td>116.213173</td>\n",
              "    </tr>\n",
              "  </tbody>\n",
              "</table>\n",
              "<p>500 rows × 6 columns</p>\n",
              "</div>"
            ],
            "text/plain": [
              "     Diametro  Ordens     Normal   Pos Skew   Neg Skew    Misterio\n",
              "0        1.25     2.0  76.296173  63.705994  77.100639   76.802063\n",
              "1        1.45     3.0  80.738739  65.795341  70.563339   58.790665\n",
              "2        1.23     2.0  82.474930  66.512024  73.386749   82.533379\n",
              "3        1.22     1.0  87.897156  64.910660  64.891518   71.306450\n",
              "4        1.45     0.0  73.646530  67.237747  76.984497   73.760651\n",
              "..        ...     ...        ...        ...        ...         ...\n",
              "495       NaN     NaN  73.377541  62.921150  72.298492  118.055374\n",
              "496       NaN     NaN  54.317173  82.124977  76.631279  133.694824\n",
              "497       NaN     NaN  64.908524  67.107224  71.980598  133.804810\n",
              "498       NaN     NaN  74.645348  65.141914  76.855118  127.145119\n",
              "499       NaN     NaN  60.578156  64.501343  70.845062  116.213173\n",
              "\n",
              "[500 rows x 6 columns]"
            ]
          },
          "metadata": {},
          "execution_count": 50
        }
      ]
    },
    {
      "cell_type": "code",
      "metadata": {
        "id": "QDo5UV8L3BK2"
      },
      "source": [
        "# Criando BoxPlot"
      ],
      "execution_count": 51,
      "outputs": []
    },
    {
      "cell_type": "code",
      "metadata": {
        "id": "DFjvbk_s36Kc"
      },
      "source": [
        "df2 = pd.read_csv(\"boxplot.csv\")"
      ],
      "execution_count": 55,
      "outputs": []
    },
    {
      "cell_type": "code",
      "metadata": {
        "colab": {
          "base_uri": "https://localhost:8080/",
          "height": 206
        },
        "id": "Pv447EYC4moP",
        "outputId": "478cf502-60d0-4810-84bc-b88759d699f7"
      },
      "source": [
        "df2.head()"
      ],
      "execution_count": 53,
      "outputs": [
        {
          "output_type": "execute_result",
          "data": {
            "text/html": [
              "<div>\n",
              "<style scoped>\n",
              "    .dataframe tbody tr th:only-of-type {\n",
              "        vertical-align: middle;\n",
              "    }\n",
              "\n",
              "    .dataframe tbody tr th {\n",
              "        vertical-align: top;\n",
              "    }\n",
              "\n",
              "    .dataframe thead th {\n",
              "        text-align: right;\n",
              "    }\n",
              "</style>\n",
              "<table border=\"1\" class=\"dataframe\">\n",
              "  <thead>\n",
              "    <tr style=\"text-align: right;\">\n",
              "      <th></th>\n",
              "      <th>Hospital</th>\n",
              "      <th>ALA</th>\n",
              "      <th>Tempo</th>\n",
              "    </tr>\n",
              "  </thead>\n",
              "  <tbody>\n",
              "    <tr>\n",
              "      <th>0</th>\n",
              "      <td>HOSPITAL A</td>\n",
              "      <td>Ala Infantil</td>\n",
              "      <td>18.3350</td>\n",
              "    </tr>\n",
              "    <tr>\n",
              "      <th>1</th>\n",
              "      <td>HOSPITAL A</td>\n",
              "      <td>Ala Infantil</td>\n",
              "      <td>18.5100</td>\n",
              "    </tr>\n",
              "    <tr>\n",
              "      <th>2</th>\n",
              "      <td>HOSPITAL A</td>\n",
              "      <td>Ala Infantil</td>\n",
              "      <td>18.7500</td>\n",
              "    </tr>\n",
              "    <tr>\n",
              "      <th>3</th>\n",
              "      <td>HOSPITAL A</td>\n",
              "      <td>Ala Infantil</td>\n",
              "      <td>19.0450</td>\n",
              "    </tr>\n",
              "    <tr>\n",
              "      <th>4</th>\n",
              "      <td>HOSPITAL A</td>\n",
              "      <td>Ala Infantil</td>\n",
              "      <td>18.8325</td>\n",
              "    </tr>\n",
              "  </tbody>\n",
              "</table>\n",
              "</div>"
            ],
            "text/plain": [
              "     Hospital           ALA    Tempo\n",
              "0  HOSPITAL A  Ala Infantil  18.3350\n",
              "1  HOSPITAL A  Ala Infantil  18.5100\n",
              "2  HOSPITAL A  Ala Infantil  18.7500\n",
              "3  HOSPITAL A  Ala Infantil  19.0450\n",
              "4  HOSPITAL A  Ala Infantil  18.8325"
            ]
          },
          "metadata": {},
          "execution_count": 53
        }
      ]
    },
    {
      "cell_type": "code",
      "metadata": {
        "colab": {
          "base_uri": "https://localhost:8080/",
          "height": 303
        },
        "id": "CJdcpo9m4qRV",
        "outputId": "412a0e4a-b4c5-4f5a-ef11-3989b5c48663"
      },
      "source": [
        "sns.set(style=\"darkgrid\")\n",
        "sns.boxplot(x='Hospital', y='Tempo', orient='vertical', width=0.4, data=df2, palette=\"Set1\")"
      ],
      "execution_count": 64,
      "outputs": [
        {
          "output_type": "execute_result",
          "data": {
            "text/plain": [
              "<matplotlib.axes._subplots.AxesSubplot at 0x7fca52e95f10>"
            ]
          },
          "metadata": {},
          "execution_count": 64
        },
        {
          "output_type": "display_data",
          "data": {
            "image/png": "[encoded data removed]",
            "text/plain": [
              "<Figure size 432x288 with 1 Axes>"
            ]
          },
          "metadata": {}
        }
      ]
    },
    {
      "cell_type": "code",
      "metadata": {
        "colab": {
          "base_uri": "https://localhost:8080/",
          "height": 303
        },
        "id": "6gGiTG3c6V6w",
        "outputId": "1e6fa0c2-1340-458a-b4e1-56e664179601"
      },
      "source": [
        "sns.boxplot(x='Hospital', y='Tempo', orient='vertical', width=0.4, data=df2, palette=\"Set1\", hue='ALA')"
      ],
      "execution_count": 68,
      "outputs": [
        {
          "output_type": "execute_result",
          "data": {
            "text/plain": [
              "<matplotlib.axes._subplots.AxesSubplot at 0x7fca52ca5210>"
            ]
          },
          "metadata": {},
          "execution_count": 68
        },
        {
          "output_type": "display_data",
          "data": {
            "image/png": "[encoded data removed]",
            "text/plain": [
              "<Figure size 432x288 with 1 Axes>"
            ]
          },
          "metadata": {}
        }
      ]
    },
    {
      "cell_type": "code",
      "metadata": {
        "colab": {
          "base_uri": "https://localhost:8080/",
          "height": 303
        },
        "id": "KdqLSljF8j0y",
        "outputId": "13a3f76e-88ab-4bbd-e963-c15bf21ecedb"
      },
      "source": [
        "sns.boxplot(x='Hospital', y='Tempo', orient='vertical', width=0.4, data=df2, palette=\"Set1\", hue='ALA', showmeans = True, meanprops={\"marker\":\">\", \"markerfacecolor\":\"blue\", \"markersize\":\"5\"})"
      ],
      "execution_count": 76,
      "outputs": [
        {
          "output_type": "execute_result",
          "data": {
            "text/plain": [
              "<matplotlib.axes._subplots.AxesSubplot at 0x7fca52ea0a10>"
            ]
          },
          "metadata": {},
          "execution_count": 76
        },
        {
          "output_type": "display_data",
          "data": {
            "image/png": "[encoded data removed]",
            "text/plain": [
              "<Figure size 432x288 with 1 Axes>"
            ]
          },
          "metadata": {}
        }
      ]
    },
    {
      "cell_type": "code",
      "metadata": {
        "id": "ugbxPpHD-Bfx"
      },
      "source": [
        "my_colors = [\"#9b59b6\", \"#3498db\", \n",
        "             \"#2ecc71\", \"#006a4e\"]\n",
        "  \n",
        "# add color array to set_palette\n",
        "# function of seaborn\n",
        "sns.set_palette( my_colors )"
      ],
      "execution_count": 75,
      "outputs": []
    },
    {
      "cell_type": "code",
      "metadata": {
        "colab": {
          "base_uri": "https://localhost:8080/",
          "height": 303
        },
        "id": "kfpzTsTX-LXq",
        "outputId": "e1f49c0b-5e86-480b-ae0b-c43574f16961"
      },
      "source": [
        "sns.boxplot(x='Hospital', y='Tempo', orient='vertical', width=0.4, data=df2, hue='ALA', showmeans = True, meanprops={\"marker\":\">\", \"markerfacecolor\":\"blue\", \"markersize\":\"5\"})"
      ],
      "execution_count": 77,
      "outputs": [
        {
          "output_type": "execute_result",
          "data": {
            "text/plain": [
              "<matplotlib.axes._subplots.AxesSubplot at 0x7fca52731dd0>"
            ]
          },
          "metadata": {},
          "execution_count": 77
        },
        {
          "output_type": "display_data",
          "data": {
            "image/png": "[encoded data removed]",
            "text/plain": [
              "<Figure size 432x288 with 1 Axes>"
            ]
          },
          "metadata": {}
        }
      ]
    },
    {
      "cell_type": "code",
      "metadata": {
        "id": "FSvMfkkj9RyO"
      },
      "source": [
        "df3 = pd.read_csv('dispersao.csv')"
      ],
      "execution_count": 78,
      "outputs": []
    },
    {
      "cell_type": "code",
      "metadata": {
        "colab": {
          "base_uri": "https://localhost:8080/",
          "height": 206
        },
        "id": "U2Gux0A9CHrK",
        "outputId": "8b767ad5-832a-40c4-e29d-4d0fe047ba52"
      },
      "source": [
        "df3.head()"
      ],
      "execution_count": 79,
      "outputs": [
        {
          "output_type": "execute_result",
          "data": {
            "text/html": [
              "<div>\n",
              "<style scoped>\n",
              "    .dataframe tbody tr th:only-of-type {\n",
              "        vertical-align: middle;\n",
              "    }\n",
              "\n",
              "    .dataframe tbody tr th {\n",
              "        vertical-align: top;\n",
              "    }\n",
              "\n",
              "    .dataframe thead th {\n",
              "        text-align: right;\n",
              "    }\n",
              "</style>\n",
              "<table border=\"1\" class=\"dataframe\">\n",
              "  <thead>\n",
              "    <tr style=\"text-align: right;\">\n",
              "      <th></th>\n",
              "      <th>Rendimento</th>\n",
              "      <th>Pressao</th>\n",
              "    </tr>\n",
              "  </thead>\n",
              "  <tbody>\n",
              "    <tr>\n",
              "      <th>0</th>\n",
              "      <td>68.119850</td>\n",
              "      <td>343.213755</td>\n",
              "    </tr>\n",
              "    <tr>\n",
              "      <th>1</th>\n",
              "      <td>66.521010</td>\n",
              "      <td>332.409340</td>\n",
              "    </tr>\n",
              "    <tr>\n",
              "      <th>2</th>\n",
              "      <td>73.905141</td>\n",
              "      <td>368.075840</td>\n",
              "    </tr>\n",
              "    <tr>\n",
              "      <th>3</th>\n",
              "      <td>69.989601</td>\n",
              "      <td>347.655465</td>\n",
              "    </tr>\n",
              "    <tr>\n",
              "      <th>4</th>\n",
              "      <td>63.563314</td>\n",
              "      <td>332.764751</td>\n",
              "    </tr>\n",
              "  </tbody>\n",
              "</table>\n",
              "</div>"
            ],
            "text/plain": [
              "   Rendimento     Pressao\n",
              "0   68.119850  343.213755\n",
              "1   66.521010  332.409340\n",
              "2   73.905141  368.075840\n",
              "3   69.989601  347.655465\n",
              "4   63.563314  332.764751"
            ]
          },
          "metadata": {},
          "execution_count": 79
        }
      ]
    },
    {
      "cell_type": "code",
      "metadata": {
        "colab": {
          "base_uri": "https://localhost:8080/",
          "height": 303
        },
        "id": "1IpQqX0ECJTW",
        "outputId": "451110fe-272d-4b1a-dea0-51f39cc5a4d8"
      },
      "source": [
        "sns.scatterplot(x='Pressao', y='Rendimento', data=df3)"
      ],
      "execution_count": 80,
      "outputs": [
        {
          "output_type": "execute_result",
          "data": {
            "text/plain": [
              "<matplotlib.axes._subplots.AxesSubplot at 0x7fca53213090>"
            ]
          },
          "metadata": {},
          "execution_count": 80
        },
        {
          "output_type": "display_data",
          "data": {
            "image/png": "[encoded data removed]",
            "text/plain": [
              "<Figure size 432x288 with 1 Axes>"
            ]
          },
          "metadata": {}
        }
      ]
    },
    {
      "cell_type": "code",
      "metadata": {
        "colab": {
          "base_uri": "https://localhost:8080/",
          "height": 285
        },
        "id": "3P6FIZAxCbgh",
        "outputId": "bdfc4c34-0a61-482f-be98-6374fa41b615"
      },
      "source": [
        "sns.scatterplot(x='Pressao', y='Rendimento', data=df3, marker='>', s=50, color='red');"
      ],
      "execution_count": 82,
      "outputs": [
        {
          "output_type": "display_data",
          "data": {
            "image/png": "[encoded data removed]",
            "text/plain": [
              "<Figure size 432x288 with 1 Axes>"
            ]
          },
          "metadata": {}
        }
      ]
    },
    {
      "cell_type": "code",
      "metadata": {
        "id": "zvu8z0_8Cz82"
      },
      "source": [
        ""
      ],
      "execution_count": null,
      "outputs": []
    }
  ]
}