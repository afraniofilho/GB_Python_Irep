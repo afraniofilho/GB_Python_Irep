{
  "nbformat": 4,
  "nbformat_minor": 0,
  "metadata": {
    "colab": {
      "name": "Yahoo Finance.ipynb",
      "provenance": [],
      "authorship_tag": "ABX9TyMbEQzE2DQKM21pZeOVeRlg",
      "include_colab_link": true
    },
    "kernelspec": {
      "name": "python3",
      "display_name": "Python 3"
    },
    "language_info": {
      "name": "python"
    }
  },
  "cells": [
    {
      "cell_type": "markdown",
      "metadata": {
        "id": "view-in-github",
        "colab_type": "text"
      },
      "source": [
        "<a href=\"https://colab.research.google.com/github/afraniofilho/GB_Python_Irep/blob/main/Yahoo_Finance.ipynb\" target=\"_parent\"><img src=\"https://colab.research.google.com/assets/colab-badge.svg\" alt=\"Open In Colab\"/></a>"
      ]
    },
    {
      "cell_type": "code",
      "metadata": {
        "colab": {
          "base_uri": "https://localhost:8080/"
        },
        "id": "-Ufc9AUPsWtF",
        "outputId": "b7c70e96-7a12-4777-f2ad-260455ca0965"
      },
      "source": [
        "!pip install yfinance"
      ],
      "execution_count": 1,
      "outputs": [
        {
          "output_type": "stream",
          "text": [
            "Collecting yfinance\n",
            "  Downloading https://files.pythonhosted.org/packages/a7/ee/315752b9ef281ba83c62aa7ec2e2074f85223da6e7e74efb4d3e11c0f510/yfinance-0.1.59.tar.gz\n",
            "Requirement already satisfied: pandas>=0.24 in /usr/local/lib/python3.7/dist-packages (from yfinance) (1.1.5)\n",
            "Requirement already satisfied: numpy>=1.15 in /usr/local/lib/python3.7/dist-packages (from yfinance) (1.19.5)\n",
            "Requirement already satisfied: requests>=2.20 in /usr/local/lib/python3.7/dist-packages (from yfinance) (2.23.0)\n",
            "Requirement already satisfied: multitasking>=0.0.7 in /usr/local/lib/python3.7/dist-packages (from yfinance) (0.0.9)\n",
            "Collecting lxml>=4.5.1\n",
            "\u001b[?25l  Downloading https://files.pythonhosted.org/packages/30/c0/d0526314971fc661b083ab135747dc68446a3022686da8c16d25fcf6ef07/lxml-4.6.3-cp37-cp37m-manylinux2014_x86_64.whl (6.3MB)\n",
            "\u001b[K     |████████████████████████████████| 6.3MB 9.8MB/s \n",
            "\u001b[?25hRequirement already satisfied: python-dateutil>=2.7.3 in /usr/local/lib/python3.7/dist-packages (from pandas>=0.24->yfinance) (2.8.1)\n",
            "Requirement already satisfied: pytz>=2017.2 in /usr/local/lib/python3.7/dist-packages (from pandas>=0.24->yfinance) (2018.9)\n",
            "Requirement already satisfied: urllib3!=1.25.0,!=1.25.1,<1.26,>=1.21.1 in /usr/local/lib/python3.7/dist-packages (from requests>=2.20->yfinance) (1.24.3)\n",
            "Requirement already satisfied: chardet<4,>=3.0.2 in /usr/local/lib/python3.7/dist-packages (from requests>=2.20->yfinance) (3.0.4)\n",
            "Requirement already satisfied: certifi>=2017.4.17 in /usr/local/lib/python3.7/dist-packages (from requests>=2.20->yfinance) (2021.5.30)\n",
            "Requirement already satisfied: idna<3,>=2.5 in /usr/local/lib/python3.7/dist-packages (from requests>=2.20->yfinance) (2.10)\n",
            "Requirement already satisfied: six>=1.5 in /usr/local/lib/python3.7/dist-packages (from python-dateutil>=2.7.3->pandas>=0.24->yfinance) (1.15.0)\n",
            "Building wheels for collected packages: yfinance\n",
            "  Building wheel for yfinance (setup.py) ... \u001b[?25l\u001b[?25hdone\n",
            "  Created wheel for yfinance: filename=yfinance-0.1.59-py2.py3-none-any.whl size=23455 sha256=552cb25fe92e8b577c19d73123cf1aa259582ba6c8ef249693ce5a002e6a471b\n",
            "  Stored in directory: /root/.cache/pip/wheels/f8/2a/0f/4b5a86e1d52e451757eb6bc17fd899629f0925c777741b6d04\n",
            "Successfully built yfinance\n",
            "Installing collected packages: lxml, yfinance\n",
            "  Found existing installation: lxml 4.2.6\n",
            "    Uninstalling lxml-4.2.6:\n",
            "      Successfully uninstalled lxml-4.2.6\n",
            "Successfully installed lxml-4.6.3 yfinance-0.1.59\n"
          ],
          "name": "stdout"
        }
      ]
    },
    {
      "cell_type": "code",
      "metadata": {
        "id": "AeNucy5Fs9TG"
      },
      "source": [
        "import yfinance as yf"
      ],
      "execution_count": 2,
      "outputs": []
    },
    {
      "cell_type": "code",
      "metadata": {
        "id": "skadJp3qtSmG"
      },
      "source": [
        "import numpy as np\n",
        "import pandas as pd\n",
        "import matplotlib.pyplot as plt\n",
        "import seaborn as sns"
      ],
      "execution_count": 3,
      "outputs": []
    },
    {
      "cell_type": "code",
      "metadata": {
        "id": "j-ySimPEta60"
      },
      "source": [
        "tickers = '^BVSP USDBRL=X'"
      ],
      "execution_count": 4,
      "outputs": []
    },
    {
      "cell_type": "code",
      "metadata": {
        "colab": {
          "base_uri": "https://localhost:8080/"
        },
        "id": "7KtlZy1qtuiW",
        "outputId": "da7200c0-7cf0-4811-b797-3cca8b4d7871"
      },
      "source": [
        "carteira = yf.download(tickers, start='2007-01-01')"
      ],
      "execution_count": 5,
      "outputs": [
        {
          "output_type": "stream",
          "text": [
            "[*********************100%***********************]  2 of 2 completed\n"
          ],
          "name": "stdout"
        }
      ]
    },
    {
      "cell_type": "code",
      "metadata": {
        "colab": {
          "base_uri": "https://localhost:8080/",
          "height": 666
        },
        "id": "uWRfWprOt5qO",
        "outputId": "70fde37b-e814-4f57-98fc-8da179f95cee"
      },
      "source": [
        "carteira"
      ],
      "execution_count": 6,
      "outputs": [
        {
          "output_type": "execute_result",
          "data": {
            "text/html": [
              "<div>\n",
              "<style scoped>\n",
              "    .dataframe tbody tr th:only-of-type {\n",
              "        vertical-align: middle;\n",
              "    }\n",
              "\n",
              "    .dataframe tbody tr th {\n",
              "        vertical-align: top;\n",
              "    }\n",
              "\n",
              "    .dataframe thead tr th {\n",
              "        text-align: left;\n",
              "    }\n",
              "\n",
              "    .dataframe thead tr:last-of-type th {\n",
              "        text-align: right;\n",
              "    }\n",
              "</style>\n",
              "<table border=\"1\" class=\"dataframe\">\n",
              "  <thead>\n",
              "    <tr>\n",
              "      <th></th>\n",
              "      <th colspan=\"2\" halign=\"left\">Adj Close</th>\n",
              "      <th colspan=\"2\" halign=\"left\">Close</th>\n",
              "      <th colspan=\"2\" halign=\"left\">High</th>\n",
              "      <th colspan=\"2\" halign=\"left\">Low</th>\n",
              "      <th colspan=\"2\" halign=\"left\">Open</th>\n",
              "      <th colspan=\"2\" halign=\"left\">Volume</th>\n",
              "    </tr>\n",
              "    <tr>\n",
              "      <th></th>\n",
              "      <th>USDBRL=X</th>\n",
              "      <th>^BVSP</th>\n",
              "      <th>USDBRL=X</th>\n",
              "      <th>^BVSP</th>\n",
              "      <th>USDBRL=X</th>\n",
              "      <th>^BVSP</th>\n",
              "      <th>USDBRL=X</th>\n",
              "      <th>^BVSP</th>\n",
              "      <th>USDBRL=X</th>\n",
              "      <th>^BVSP</th>\n",
              "      <th>USDBRL=X</th>\n",
              "      <th>^BVSP</th>\n",
              "    </tr>\n",
              "    <tr>\n",
              "      <th>Date</th>\n",
              "      <th></th>\n",
              "      <th></th>\n",
              "      <th></th>\n",
              "      <th></th>\n",
              "      <th></th>\n",
              "      <th></th>\n",
              "      <th></th>\n",
              "      <th></th>\n",
              "      <th></th>\n",
              "      <th></th>\n",
              "      <th></th>\n",
              "      <th></th>\n",
              "    </tr>\n",
              "  </thead>\n",
              "  <tbody>\n",
              "    <tr>\n",
              "      <th>2007-01-01</th>\n",
              "      <td>2.1325</td>\n",
              "      <td>NaN</td>\n",
              "      <td>2.1325</td>\n",
              "      <td>NaN</td>\n",
              "      <td>2.1325</td>\n",
              "      <td>NaN</td>\n",
              "      <td>2.131000</td>\n",
              "      <td>NaN</td>\n",
              "      <td>2.13100</td>\n",
              "      <td>NaN</td>\n",
              "      <td>0.0</td>\n",
              "      <td>NaN</td>\n",
              "    </tr>\n",
              "    <tr>\n",
              "      <th>2007-01-02</th>\n",
              "      <td>2.1310</td>\n",
              "      <td>45383.0000</td>\n",
              "      <td>2.1310</td>\n",
              "      <td>45383.0000</td>\n",
              "      <td>2.1432</td>\n",
              "      <td>45388.0</td>\n",
              "      <td>2.129500</td>\n",
              "      <td>44476.0</td>\n",
              "      <td>2.13350</td>\n",
              "      <td>44476.0</td>\n",
              "      <td>0.0</td>\n",
              "      <td>75560200.0</td>\n",
              "    </tr>\n",
              "    <tr>\n",
              "      <th>2007-01-03</th>\n",
              "      <td>2.1345</td>\n",
              "      <td>44445.0000</td>\n",
              "      <td>2.1345</td>\n",
              "      <td>44445.0000</td>\n",
              "      <td>2.1351</td>\n",
              "      <td>45379.0</td>\n",
              "      <td>2.127800</td>\n",
              "      <td>44284.0</td>\n",
              "      <td>2.13100</td>\n",
              "      <td>45379.0</td>\n",
              "      <td>0.0</td>\n",
              "      <td>122372800.0</td>\n",
              "    </tr>\n",
              "    <tr>\n",
              "      <th>2007-01-04</th>\n",
              "      <td>2.1390</td>\n",
              "      <td>44020.0000</td>\n",
              "      <td>2.1390</td>\n",
              "      <td>44020.0000</td>\n",
              "      <td>2.1430</td>\n",
              "      <td>44442.0</td>\n",
              "      <td>2.134500</td>\n",
              "      <td>43623.0</td>\n",
              "      <td>2.13450</td>\n",
              "      <td>44442.0</td>\n",
              "      <td>0.0</td>\n",
              "      <td>86577000.0</td>\n",
              "    </tr>\n",
              "    <tr>\n",
              "      <th>2007-01-05</th>\n",
              "      <td>2.1470</td>\n",
              "      <td>42245.0000</td>\n",
              "      <td>2.1470</td>\n",
              "      <td>42245.0000</td>\n",
              "      <td>2.1525</td>\n",
              "      <td>44081.0</td>\n",
              "      <td>2.134500</td>\n",
              "      <td>42160.0</td>\n",
              "      <td>2.13900</td>\n",
              "      <td>44019.0</td>\n",
              "      <td>0.0</td>\n",
              "      <td>164055000.0</td>\n",
              "    </tr>\n",
              "    <tr>\n",
              "      <th>...</th>\n",
              "      <td>...</td>\n",
              "      <td>...</td>\n",
              "      <td>...</td>\n",
              "      <td>...</td>\n",
              "      <td>...</td>\n",
              "      <td>...</td>\n",
              "      <td>...</td>\n",
              "      <td>...</td>\n",
              "      <td>...</td>\n",
              "      <td>...</td>\n",
              "      <td>...</td>\n",
              "      <td>...</td>\n",
              "    </tr>\n",
              "    <tr>\n",
              "      <th>2021-06-28</th>\n",
              "      <td>4.9154</td>\n",
              "      <td>127429.0000</td>\n",
              "      <td>4.9154</td>\n",
              "      <td>127429.0000</td>\n",
              "      <td>4.9697</td>\n",
              "      <td>128067.0</td>\n",
              "      <td>4.897337</td>\n",
              "      <td>126629.0</td>\n",
              "      <td>4.91460</td>\n",
              "      <td>127255.0</td>\n",
              "      <td>0.0</td>\n",
              "      <td>8155600.0</td>\n",
              "    </tr>\n",
              "    <tr>\n",
              "      <th>2021-06-29</th>\n",
              "      <td>4.9248</td>\n",
              "      <td>127327.0000</td>\n",
              "      <td>4.9248</td>\n",
              "      <td>127327.0000</td>\n",
              "      <td>4.9679</td>\n",
              "      <td>127507.0</td>\n",
              "      <td>4.922471</td>\n",
              "      <td>126184.0</td>\n",
              "      <td>4.92450</td>\n",
              "      <td>127429.0</td>\n",
              "      <td>0.0</td>\n",
              "      <td>7777900.0</td>\n",
              "    </tr>\n",
              "    <tr>\n",
              "      <th>2021-06-30</th>\n",
              "      <td>4.9551</td>\n",
              "      <td>126802.0000</td>\n",
              "      <td>4.9551</td>\n",
              "      <td>126802.0000</td>\n",
              "      <td>5.0203</td>\n",
              "      <td>127323.0</td>\n",
              "      <td>4.952957</td>\n",
              "      <td>126199.0</td>\n",
              "      <td>4.95318</td>\n",
              "      <td>127323.0</td>\n",
              "      <td>0.0</td>\n",
              "      <td>9098600.0</td>\n",
              "    </tr>\n",
              "    <tr>\n",
              "      <th>2021-07-01</th>\n",
              "      <td>4.9692</td>\n",
              "      <td>125666.1875</td>\n",
              "      <td>4.9692</td>\n",
              "      <td>125666.1875</td>\n",
              "      <td>5.0460</td>\n",
              "      <td>0.0</td>\n",
              "      <td>4.945500</td>\n",
              "      <td>0.0</td>\n",
              "      <td>4.96910</td>\n",
              "      <td>0.0</td>\n",
              "      <td>0.0</td>\n",
              "      <td>0.0</td>\n",
              "    </tr>\n",
              "    <tr>\n",
              "      <th>2021-07-02</th>\n",
              "      <td>5.0492</td>\n",
              "      <td>NaN</td>\n",
              "      <td>5.0492</td>\n",
              "      <td>NaN</td>\n",
              "      <td>5.0492</td>\n",
              "      <td>NaN</td>\n",
              "      <td>5.046600</td>\n",
              "      <td>NaN</td>\n",
              "      <td>5.04760</td>\n",
              "      <td>NaN</td>\n",
              "      <td>0.0</td>\n",
              "      <td>NaN</td>\n",
              "    </tr>\n",
              "  </tbody>\n",
              "</table>\n",
              "<p>3782 rows × 12 columns</p>\n",
              "</div>"
            ],
            "text/plain": [
              "           Adj Close                 Close  ...      Open   Volume             \n",
              "            USDBRL=X        ^BVSP USDBRL=X  ...     ^BVSP USDBRL=X        ^BVSP\n",
              "Date                                        ...                                \n",
              "2007-01-01    2.1325          NaN   2.1325  ...       NaN      0.0          NaN\n",
              "2007-01-02    2.1310   45383.0000   2.1310  ...   44476.0      0.0   75560200.0\n",
              "2007-01-03    2.1345   44445.0000   2.1345  ...   45379.0      0.0  122372800.0\n",
              "2007-01-04    2.1390   44020.0000   2.1390  ...   44442.0      0.0   86577000.0\n",
              "2007-01-05    2.1470   42245.0000   2.1470  ...   44019.0      0.0  164055000.0\n",
              "...              ...          ...      ...  ...       ...      ...          ...\n",
              "2021-06-28    4.9154  127429.0000   4.9154  ...  127255.0      0.0    8155600.0\n",
              "2021-06-29    4.9248  127327.0000   4.9248  ...  127429.0      0.0    7777900.0\n",
              "2021-06-30    4.9551  126802.0000   4.9551  ...  127323.0      0.0    9098600.0\n",
              "2021-07-01    4.9692  125666.1875   4.9692  ...       0.0      0.0          0.0\n",
              "2021-07-02    5.0492          NaN   5.0492  ...       NaN      0.0          NaN\n",
              "\n",
              "[3782 rows x 12 columns]"
            ]
          },
          "metadata": {
            "tags": []
          },
          "execution_count": 6
        }
      ]
    },
    {
      "cell_type": "code",
      "metadata": {
        "colab": {
          "base_uri": "https://localhost:8080/",
          "height": 265
        },
        "id": "C00AKvtOt8i-",
        "outputId": "aa740bfd-9169-4d93-b47a-5c1c72939da5"
      },
      "source": [
        "carteira.head()"
      ],
      "execution_count": 7,
      "outputs": [
        {
          "output_type": "execute_result",
          "data": {
            "text/html": [
              "<div>\n",
              "<style scoped>\n",
              "    .dataframe tbody tr th:only-of-type {\n",
              "        vertical-align: middle;\n",
              "    }\n",
              "\n",
              "    .dataframe tbody tr th {\n",
              "        vertical-align: top;\n",
              "    }\n",
              "\n",
              "    .dataframe thead tr th {\n",
              "        text-align: left;\n",
              "    }\n",
              "\n",
              "    .dataframe thead tr:last-of-type th {\n",
              "        text-align: right;\n",
              "    }\n",
              "</style>\n",
              "<table border=\"1\" class=\"dataframe\">\n",
              "  <thead>\n",
              "    <tr>\n",
              "      <th></th>\n",
              "      <th colspan=\"2\" halign=\"left\">Adj Close</th>\n",
              "      <th colspan=\"2\" halign=\"left\">Close</th>\n",
              "      <th colspan=\"2\" halign=\"left\">High</th>\n",
              "      <th colspan=\"2\" halign=\"left\">Low</th>\n",
              "      <th colspan=\"2\" halign=\"left\">Open</th>\n",
              "      <th colspan=\"2\" halign=\"left\">Volume</th>\n",
              "    </tr>\n",
              "    <tr>\n",
              "      <th></th>\n",
              "      <th>USDBRL=X</th>\n",
              "      <th>^BVSP</th>\n",
              "      <th>USDBRL=X</th>\n",
              "      <th>^BVSP</th>\n",
              "      <th>USDBRL=X</th>\n",
              "      <th>^BVSP</th>\n",
              "      <th>USDBRL=X</th>\n",
              "      <th>^BVSP</th>\n",
              "      <th>USDBRL=X</th>\n",
              "      <th>^BVSP</th>\n",
              "      <th>USDBRL=X</th>\n",
              "      <th>^BVSP</th>\n",
              "    </tr>\n",
              "    <tr>\n",
              "      <th>Date</th>\n",
              "      <th></th>\n",
              "      <th></th>\n",
              "      <th></th>\n",
              "      <th></th>\n",
              "      <th></th>\n",
              "      <th></th>\n",
              "      <th></th>\n",
              "      <th></th>\n",
              "      <th></th>\n",
              "      <th></th>\n",
              "      <th></th>\n",
              "      <th></th>\n",
              "    </tr>\n",
              "  </thead>\n",
              "  <tbody>\n",
              "    <tr>\n",
              "      <th>2007-01-01</th>\n",
              "      <td>2.1325</td>\n",
              "      <td>NaN</td>\n",
              "      <td>2.1325</td>\n",
              "      <td>NaN</td>\n",
              "      <td>2.1325</td>\n",
              "      <td>NaN</td>\n",
              "      <td>2.1310</td>\n",
              "      <td>NaN</td>\n",
              "      <td>2.1310</td>\n",
              "      <td>NaN</td>\n",
              "      <td>0.0</td>\n",
              "      <td>NaN</td>\n",
              "    </tr>\n",
              "    <tr>\n",
              "      <th>2007-01-02</th>\n",
              "      <td>2.1310</td>\n",
              "      <td>45383.0</td>\n",
              "      <td>2.1310</td>\n",
              "      <td>45383.0</td>\n",
              "      <td>2.1432</td>\n",
              "      <td>45388.0</td>\n",
              "      <td>2.1295</td>\n",
              "      <td>44476.0</td>\n",
              "      <td>2.1335</td>\n",
              "      <td>44476.0</td>\n",
              "      <td>0.0</td>\n",
              "      <td>75560200.0</td>\n",
              "    </tr>\n",
              "    <tr>\n",
              "      <th>2007-01-03</th>\n",
              "      <td>2.1345</td>\n",
              "      <td>44445.0</td>\n",
              "      <td>2.1345</td>\n",
              "      <td>44445.0</td>\n",
              "      <td>2.1351</td>\n",
              "      <td>45379.0</td>\n",
              "      <td>2.1278</td>\n",
              "      <td>44284.0</td>\n",
              "      <td>2.1310</td>\n",
              "      <td>45379.0</td>\n",
              "      <td>0.0</td>\n",
              "      <td>122372800.0</td>\n",
              "    </tr>\n",
              "    <tr>\n",
              "      <th>2007-01-04</th>\n",
              "      <td>2.1390</td>\n",
              "      <td>44020.0</td>\n",
              "      <td>2.1390</td>\n",
              "      <td>44020.0</td>\n",
              "      <td>2.1430</td>\n",
              "      <td>44442.0</td>\n",
              "      <td>2.1345</td>\n",
              "      <td>43623.0</td>\n",
              "      <td>2.1345</td>\n",
              "      <td>44442.0</td>\n",
              "      <td>0.0</td>\n",
              "      <td>86577000.0</td>\n",
              "    </tr>\n",
              "    <tr>\n",
              "      <th>2007-01-05</th>\n",
              "      <td>2.1470</td>\n",
              "      <td>42245.0</td>\n",
              "      <td>2.1470</td>\n",
              "      <td>42245.0</td>\n",
              "      <td>2.1525</td>\n",
              "      <td>44081.0</td>\n",
              "      <td>2.1345</td>\n",
              "      <td>42160.0</td>\n",
              "      <td>2.1390</td>\n",
              "      <td>44019.0</td>\n",
              "      <td>0.0</td>\n",
              "      <td>164055000.0</td>\n",
              "    </tr>\n",
              "  </tbody>\n",
              "</table>\n",
              "</div>"
            ],
            "text/plain": [
              "           Adj Close             Close  ...     Open   Volume             \n",
              "            USDBRL=X    ^BVSP USDBRL=X  ...    ^BVSP USDBRL=X        ^BVSP\n",
              "Date                                    ...                               \n",
              "2007-01-01    2.1325      NaN   2.1325  ...      NaN      0.0          NaN\n",
              "2007-01-02    2.1310  45383.0   2.1310  ...  44476.0      0.0   75560200.0\n",
              "2007-01-03    2.1345  44445.0   2.1345  ...  45379.0      0.0  122372800.0\n",
              "2007-01-04    2.1390  44020.0   2.1390  ...  44442.0      0.0   86577000.0\n",
              "2007-01-05    2.1470  42245.0   2.1470  ...  44019.0      0.0  164055000.0\n",
              "\n",
              "[5 rows x 12 columns]"
            ]
          },
          "metadata": {
            "tags": []
          },
          "execution_count": 7
        }
      ]
    },
    {
      "cell_type": "code",
      "metadata": {
        "id": "lSI9Ls3xuLDd"
      },
      "source": [
        "sns.set()"
      ],
      "execution_count": 8,
      "outputs": []
    },
    {
      "cell_type": "code",
      "metadata": {
        "colab": {
          "base_uri": "https://localhost:8080/",
          "height": 358
        },
        "id": "M-OfczmEuXuV",
        "outputId": "ec19efa4-f6c4-46bd-aa85-ef2af8971b4a"
      },
      "source": [
        "carteira['Close'].plot(subplots=True, figsize=(22,8));"
      ],
      "execution_count": 10,
      "outputs": [
        {
          "output_type": "display_data",
          "data": {
            "image/png": "[encoded data removed]",
            "text/plain": [
              "<Figure size 1584x576 with 2 Axes>"
            ]
          },
          "metadata": {
            "tags": []
          }
        }
      ]
    },
    {
      "cell_type": "code",
      "metadata": {
        "id": "-Rkg3x7YuiBq"
      },
      "source": [
        ""
      ],
      "execution_count": null,
      "outputs": []
    }
  ]
}